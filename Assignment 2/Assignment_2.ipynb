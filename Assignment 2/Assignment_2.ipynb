{
  "cells": [
    {
      "cell_type": "code",
      "execution_count": null,
      "id": "ded10de8",
      "metadata": {
        "id": "ded10de8"
      },
      "outputs": [],
      "source": [
        "import torch \n",
        "import torch.nn as nn\n",
        "import torchvision\n",
        "\n",
        "import numpy as np\n",
        "import matplotlib.pyplot as plt\n",
        "\n",
        "device = torch.device(\"cuda:0\" if torch.cuda.is_available() else \"cpu\")"
      ]
    },
    {
      "cell_type": "code",
      "source": [
        "DATASET = \"IMAGENET1K_V1\"\n",
        "##Dictionnary with all the models\n",
        "models = {\n",
        "    \"VGG11_no_bn\" : torchvision.models.vgg11(weights = DATASET),\n",
        "    \"VGG11_bn\" : torchvision.models.vgg11_bn(weights = DATASET),\n",
        "    \"Resnet18\" : torchvision.models.resnet18(weights = DATASET),\n",
        "    \"Resnet34\" : torchvision.models.resnet34(weights = DATASET),\n",
        "    \"Densenet121\" : torchvision.models.densenet121(weights = DATASET),\n",
        "    \"MobileNet-v3-Small\" : torchvision.models.mobilenet_v3_small(weights = DATASET)\n",
        "     }\n",
        "##Dictionnary with Top 1 accuracy on ImageNet for each model\n",
        "acc_net = {\n",
        "    \"VGG11_no_bn\" : 69.02,\n",
        "    \"VGG11_bn\" : 70.37,\n",
        "    \"Resnet18\" : 69.758,\n",
        "    \"Resnet34\" : 73.314,\n",
        "    \"Densenet121\" : 74.434,\n",
        "    \"MobileNet-v3-Small\" : 67.668\n",
        "}\n",
        "##Dictionnary with nb parameters for each model\n",
        "param_net = {\n",
        "    \"VGG11_no_bn\" : 132863336,\n",
        "    \"VGG11_bn\" : 132868840,\n",
        "    \"Resnet18\" : 11689512,\n",
        "    \"Resnet34\" : 21797672,\n",
        "    \"Densenet121\" : 7978856,\n",
        "    \"MobileNet-v3-Small\" : 2542856\n",
        "}\n",
        "\n",
        "##Dictionnary with nb parameters for each model\n",
        "\n",
        "\n"
      ],
      "metadata": {
        "id": "6XU_9FiKhViE"
      },
      "id": "6XU_9FiKhViE",
      "execution_count": null,
      "outputs": []
    },
    {
      "cell_type": "code",
      "source": [
        "##Computation of inference times\n",
        "def get_inference_time(model, no_grad = True):\n",
        "  ''' \n",
        "  Get the average inference time of a model averaged over 100 iterations\n",
        "  Arguments : \n",
        "    model \n",
        "  Return : \n",
        "    np.mean(inferences_time) : mean of the 100 inference times measured for each pass\n",
        "  '''\n",
        "  start = torch.cuda.Event(enable_timing=True)\n",
        "  end = torch.cuda.Event(enable_timing=True)\n",
        "  model.eval()\n",
        "  model = model.to(device)\n",
        "\n",
        "  inference_times = []\n",
        "  fake_image = torch.rand((16, 3, 256, 256)).to(device)\n",
        "  if no_grad == True:\n",
        "    with torch.no_grad():\n",
        "      for i in range(1,100):\n",
        "        torch.cuda\n",
        "        start.record()\n",
        "        model(fake_image)\n",
        "        end.record()\n",
        "        torch.cuda.synchronize()\n",
        "        inference_times.append(start.elapsed_time(end))\n",
        "  else:\n",
        "    for i in range(1,100):\n",
        "        start.record()\n",
        "        model(fake_image)\n",
        "        end.record()\n",
        "        torch.cuda.synchronize()\n",
        "        inference_times.append(start.elapsed_time(end))\n",
        "\n",
        "  return np.mean(inference_times)\n",
        "\n",
        "inf_net = {}\n",
        "for key, item in models.items():\n",
        "    inf_net[key] = get_inference_time(item, True)\n",
        "\n",
        "inf_net_grad = {}\n",
        "for key, item in models.items():\n",
        "    inf_net_grad[key] = get_inference_time(item, False)\n",
        "\n",
        "\n",
        "\n",
        "\n"
      ],
      "metadata": {
        "id": "PLQ4zIl9ji_O"
      },
      "id": "PLQ4zIl9ji_O",
      "execution_count": null,
      "outputs": []
    },
    {
      "cell_type": "code",
      "source": [
        "plt.figure()\n",
        "for key, _ in models.items():\n",
        "  plt.scatter(inf_net[key], acc_net[key], label = key)\n",
        "plt.xlabel(\"Inference time\")\n",
        "plt.ylabel(\"Top 1 - Accuracy\")\n",
        "plt.legend(prop={'size': 8})\n",
        "plt.title(\"Top 1 Accuracy on Image Net vs Inference Time for several models\")\n",
        "\n",
        "plt.figure()\n",
        "for key, _ in models.items():\n",
        "  plt.scatter(param_net[key], inf_net[key], label = key)\n",
        "plt.xlabel(\"Number of parameters\")\n",
        "plt.ylabel(\"Inference time\")\n",
        "plt.legend(prop={'size': 8})\n",
        "plt.title(\"Inference time vs number of parameters for several models\")"
      ],
      "metadata": {
        "colab": {
          "base_uri": "https://localhost:8080/",
          "height": 590
        },
        "id": "XImD5g3YoL4Z",
        "outputId": "5fcaab7d-2703-461a-9db6-63c49c7ca74f"
      },
      "id": "XImD5g3YoL4Z",
      "execution_count": null,
      "outputs": [
        {
          "output_type": "execute_result",
          "data": {
            "text/plain": [
              "Text(0.5, 1.0, 'Inference time vs number of parameters for several models')"
            ]
          },
          "metadata": {},
          "execution_count": 4
        },
        {
          "output_type": "display_data",
          "data": {
            "text/plain": [
              "<Figure size 432x288 with 1 Axes>"
            ],
            "image/png": "[encoded data removed]"
          },
          "metadata": {
            "needs_background": "light"
          }
        },
        {
          "output_type": "display_data",
          "data": {
            "text/plain": [
              "<Figure size 432x288 with 1 Axes>"
            ],
            "image/png": "[encoded data removed]"
          },
          "metadata": {
            "needs_background": "light"
          }
        }
      ]
    },
    {
      "cell_type": "markdown",
      "source": [
        "# QUESTION 1.1.A\n",
        "\n",
        "First trend : the longer the inference time, the higher the accuracy on Image Net. It would make sens because more inference time means more computations so deeper models with more parameters that are supposedly more efficient.\n",
        "\n",
        "The second trend is the higher the number of parameters, the higher the inference time. It would make sense as more parameters needs more computations, which take indeed more time. One good example is VGG11 that has a lower inference time without batch normalization, as it does less computation than with batch normalization."
      ],
      "metadata": {
        "id": "7wBKs_r-8CIh"
      },
      "id": "7wBKs_r-8CIh"
    },
    {
      "cell_type": "markdown",
      "source": [
        "# Question 1.1.B\n",
        "\n",
        "When the gradients are not disabled, the model has to save the values of the gradients in the memory, even if they are not used. So it adds a step to the forward pass, hence it should take more time.\n",
        "\n",
        "torch.no_grad() disables the gradient computation that are not useful for inference."
      ],
      "metadata": {
        "id": "vdgC_AV7xZzS"
      },
      "id": "vdgC_AV7xZzS"
    },
    {
      "cell_type": "code",
      "source": [
        "plt.figure(figsize = (9,9))\n",
        "plt.scatter(list(models.keys()), inf_net_grad.values(), label = \"without no_grad\")\n",
        "plt.xlabel(\"Models\")\n",
        "plt.ylabel(\"Inference time\")\n",
        "plt.scatter(list(models.keys()), inf_net.values(), label = \"with no_grad\")\n",
        "plt.title(\"\")\n",
        "plt.legend()\n",
        "\n"
      ],
      "metadata": {
        "colab": {
          "base_uri": "https://localhost:8080/",
          "height": 569
        },
        "id": "6KIZ44Gz3utZ",
        "outputId": "5b97e253-5324-473a-9a11-981c36735995"
      },
      "id": "6KIZ44Gz3utZ",
      "execution_count": null,
      "outputs": [
        {
          "output_type": "execute_result",
          "data": {
            "text/plain": [
              "<matplotlib.legend.Legend at 0x7f8c6e419bd0>"
            ]
          },
          "metadata": {},
          "execution_count": 5
        },
        {
          "output_type": "display_data",
          "data": {
            "text/plain": [
              "<Figure size 648x648 with 1 Axes>"
            ],
            "image/png": "[encoded data removed]"
          },
          "metadata": {
            "needs_background": "light"
          }
        }
      ]
    },
    {
      "cell_type": "markdown",
      "source": [
        "# Question 1.1.C"
      ],
      "metadata": {
        "id": "F5ESe9dxIAQm"
      },
      "id": "F5ESe9dxIAQm"
    },
    {
      "cell_type": "code",
      "source": [
        "def get_memory_allocated(model, no_grad = True):\n",
        "  ''' \n",
        "  Get the allocated memory after a forward pass of a model\n",
        "  Arguments : \n",
        "    model\n",
        "    no_grad : True if no gradients and False if with gradients\n",
        "  Returns : \n",
        "    memory_2 - memory_2 : memory allocated after a forward pass\n",
        "  '''\n",
        "  torch.cuda.empty_cache()\n",
        "  fake_image = torch.rand((64, 3, 256, 256)).to(device)\n",
        "  model = model.to(device)\n",
        "  model.eval()\n",
        "\n",
        "  if no_grad == True:\n",
        "    with torch.no_grad():\n",
        "      memory_1 = torch.cuda.memory_allocated()\n",
        "      y = model(fake_image)\n",
        "      memory_2 = torch.cuda.memory_allocated()\n",
        "      return memory_2 - memory_1\n",
        "  else:\n",
        "    memory_1 = torch.cuda.memory_allocated()\n",
        "    y = model(fake_image)\n",
        "    memory_2 = torch.cuda.memory_allocated()\n",
        "    return memory_2 - memory_1\n",
        "\n",
        "memory_net = {}\n",
        "for key, item in models.items():\n",
        "    memory_net[key] = get_memory_allocated(item, True)\n",
        "\n",
        "memory_net_grad = {}\n",
        "for key, item in models.items():\n",
        "    memory_net_grad[key] = get_memory_allocated(item, False)\n",
        "\n",
        "\n",
        "\n"
      ],
      "metadata": {
        "id": "K_TnwCtgB2KM"
      },
      "id": "K_TnwCtgB2KM",
      "execution_count": null,
      "outputs": []
    },
    {
      "cell_type": "code",
      "source": [
        "plt.figure(figsize = (9,9))\n",
        "plt.scatter(list(models.keys()), memory_net_grad.values(), label = \"with grad\")\n",
        "plt.xlabel(\"Models\")\n",
        "plt.ylabel(\"Memory allocated\")\n",
        "plt.scatter(list(models.keys()), memory_net.values(), label = \"without grad\")\n",
        "plt.title(\"\")\n",
        "plt.legend()"
      ],
      "metadata": {
        "colab": {
          "base_uri": "https://localhost:8080/",
          "height": 580
        },
        "id": "p6LmuA-RGOgX",
        "outputId": "b8420fb0-a20f-4556-c8a5-a2077b88e4e7"
      },
      "id": "p6LmuA-RGOgX",
      "execution_count": null,
      "outputs": [
        {
          "output_type": "execute_result",
          "data": {
            "text/plain": [
              "<matplotlib.legend.Legend at 0x7f8c6e09bb10>"
            ]
          },
          "metadata": {},
          "execution_count": 9
        },
        {
          "output_type": "display_data",
          "data": {
            "text/plain": [
              "<Figure size 648x648 with 1 Axes>"
            ],
            "image/png": "[encoded data removed]"
          },
          "metadata": {
            "needs_background": "light"
          }
        }
      ]
    },
    {
      "cell_type": "markdown",
      "source": [
        "# QUESTION 1.2.A\n",
        "\n"
      ],
      "metadata": {
        "id": "1ItIF-C_N82B"
      },
      "id": "1ItIF-C_N82B"
    },
    {
      "cell_type": "code",
      "source": [
        "from torchvision.datasets import CIFAR10\n",
        "from torch.utils.data import DataLoader\n",
        "from torch.utils.data import random_split\n",
        "from torchvision import transforms\n",
        "\n",
        "    \n",
        "def get_dataloader(dataset, batch_size, return_numpy=False):\n",
        "    collate_fn = numpy_collate_fn if return_numpy else None\n",
        "    train_dataloader      = DataLoader(dataset=dataset[\"train\"], batch_size=batch_size, shuffle=True, drop_last=True,\n",
        "                                       collate_fn=collate_fn)\n",
        "    validation_dataloader = DataLoader(dataset=dataset[\"validation\"], batch_size=batch_size, shuffle=False, drop_last=False,\n",
        "                                       collate_fn=collate_fn)\n",
        "    test_dataloader       = DataLoader(dataset=dataset[\"test\"], batch_size=batch_size, shuffle=False, drop_last=False,\n",
        "                                       collate_fn=collate_fn)\n",
        "    return {\"train\": train_dataloader, \"validation\": validation_dataloader, \"test\": test_dataloader}\n",
        "\n",
        "\n",
        "def numpy_collate_fn(batch):\n",
        "    imgs = torch.stack([b[0] for b in batch], dim=0).numpy()\n",
        "    labels = np.array([b[1] for b in batch], dtype=np.int32)\n",
        "    return imgs, labels\n",
        "\n",
        "\n",
        "def read_data_sets(data_dir, validation_size=5000):\n",
        "    \"\"\"\n",
        "    Returns the dataset readed from data_dir.\n",
        "    Uses or not uses one-hot encoding for the labels.\n",
        "    Subsamples validation set with specified size if necessary.\n",
        "    Args:\n",
        "      data_dir: Data directory.\n",
        "      one_hot: Flag for one hot encoding.\n",
        "      validation_size: Size of validation set\n",
        "    Returns:\n",
        "      Dictionary with Train, Validation, Test Datasets\n",
        "    \"\"\"\n",
        "\n",
        "    mean = (0.491, 0.482, 0.447)\n",
        "    std  = (0.247, 0.243, 0.262)\n",
        "\n",
        "    data_transforms = transforms.Compose([\n",
        "                            transforms.ToTensor(),\n",
        "                            transforms.Normalize(mean, std)\n",
        "                        ])\n",
        "\n",
        "    train_dataset = CIFAR10(root=data_dir, train=True, download=True, transform=data_transforms)\n",
        "    test_dataset = CIFAR10(root=data_dir, train=False, download=True, transform=data_transforms)\n",
        "    \n",
        "    # Subsample the validation set from the train set\n",
        "    if not 0 <= validation_size <= len(train_dataset):\n",
        "        raise ValueError(\"Validation size should be between 0 and {0}. Received: {1}.\".format(\n",
        "            len(train_dataset), validation_size))\n",
        "        \n",
        "    train_dataset, validation_dataset = random_split(train_dataset, \n",
        "                                                     lengths=[len(train_dataset) - validation_size, validation_size],\n",
        "                                                     generator=torch.Generator().manual_seed(42))\n",
        "\n",
        "    return {'train': train_dataset, 'validation': validation_dataset, 'test': test_dataset}\n",
        "\n",
        "\n",
        "def get_cifar10(data_dir='data/', validation_size=5000):\n",
        "    \"\"\"\n",
        "    Prepares CIFAR10 dataset.\n",
        "    Args:\n",
        "      data_dir: Data directory.\n",
        "      one_hot: Flag for one hot encoding.\n",
        "      validation_size: Size of validation set\n",
        "    Returns:\n",
        "      Dictionary with Train, Validation, Test Datasets\n",
        "    \"\"\"\n",
        "    return read_data_sets(data_dir, validation_size)\n",
        "data_dir = \"data\"\n",
        "cifar10 = get_cifar10(data_dir)\n",
        "cifar10_loader = get_dataloader(cifar10, batch_size=16,\n",
        "                                                  return_numpy=False)"
      ],
      "metadata": {
        "colab": {
          "base_uri": "https://localhost:8080/",
          "height": 101,
          "referenced_widgets": [
            "f2f48e677fe143ef823d4a0ababadab1",
            "fd127f75a9014e5e87438a9e395f6dbc",
            "5e8c2a3e03584d89bb5cc1ced33c33a9",
            "156896771bf743fea890cb57ee3b4887",
            "21f79aa612ae4094b3f787893e1d3a54",
            "3d74527f03dd434f82cdc9599e583aac",
            "45b8afcc495e48208a9db33b25d930da",
            "86deffa01096422da51b5322e4d2f144",
            "81ffad210c7b45e3bb54e1d664087f6d",
            "6f111945df6d4915af73a101f35ee465",
            "4953225a92d9468e8ee0a8594e0e19f7"
          ]
        },
        "id": "wEBX94BGPCzY",
        "outputId": "bd191f1e-43a7-44c1-a71c-c1003ed3f7d8"
      },
      "id": "wEBX94BGPCzY",
      "execution_count": null,
      "outputs": [
        {
          "output_type": "stream",
          "name": "stdout",
          "text": [
            "Downloading https://www.cs.toronto.edu/~kriz/cifar-10-python.tar.gz to data/cifar-10-python.tar.gz\n"
          ]
        },
        {
          "output_type": "display_data",
          "data": {
            "text/plain": [
              "  0%|          | 0/170498071 [00:00<?, ?it/s]"
            ],
            "application/vnd.jupyter.widget-view+json": {
              "version_major": 2,
              "version_minor": 0,
              "model_id": "f2f48e677fe143ef823d4a0ababadab1"
            }
          },
          "metadata": {}
        },
        {
          "output_type": "stream",
          "name": "stdout",
          "text": [
            "Extracting data/cifar-10-python.tar.gz to data\n",
            "Files already downloaded and verified\n"
          ]
        }
      ]
    },
    {
      "cell_type": "code",
      "source": [
        "num_classes = 10\n",
        "\n",
        "\n",
        "model_transfer = torchvision.models.resnet34(weights = DATASET)\n",
        "model_transfer.fc = nn.Linear(512, num_classes)\n",
        "nn.init.uniform_(model_transfer.weight, -0.001, 0.001)"
      ],
      "metadata": {
        "id": "u0AoHCD0OAFW"
      },
      "id": "u0AoHCD0OAFW",
      "execution_count": null,
      "outputs": []
    }
  ],
  "metadata": {
    "kernelspec": {
      "display_name": "Python 3 (ipykernel)",
      "language": "python",
      "name": "python3"
    },
    "language_info": {
      "codemirror_mode": {
        "name": "ipython",
        "version": 3
      },
      "file_extension": ".py",
      "mimetype": "text/x-python",
      "name": "python",
      "nbconvert_exporter": "python",
      "pygments_lexer": "ipython3",
      "version": "3.10.6"
    },
    "colab": {
      "provenance": []
    },
    "accelerator": "GPU",
    "gpuClass": "standard",
    "widgets": {
      "application/vnd.jupyter.widget-state+json": {
        "f2f48e677fe143ef823d4a0ababadab1": {
          "model_module": "@jupyter-widgets/controls",
          "model_name": "HBoxModel",
          "model_module_version": "1.5.0",
          "state": {
            "_dom_classes": [],
            "_model_module": "@jupyter-widgets/controls",
            "_model_module_version": "1.5.0",
            "_model_name": "HBoxModel",
            "_view_count": null,
            "_view_module": "@jupyter-widgets/controls",
            "_view_module_version": "1.5.0",
            "_view_name": "HBoxView",
            "box_style": "",
            "children": [
              "IPY_MODEL_fd127f75a9014e5e87438a9e395f6dbc",
              "IPY_MODEL_5e8c2a3e03584d89bb5cc1ced33c33a9",
              "IPY_MODEL_156896771bf743fea890cb57ee3b4887"
            ],
            "layout": "IPY_MODEL_21f79aa612ae4094b3f787893e1d3a54"
          }
        },
        "fd127f75a9014e5e87438a9e395f6dbc": {
          "model_module": "@jupyter-widgets/controls",
          "model_name": "HTMLModel",
          "model_module_version": "1.5.0",
          "state": {
            "_dom_classes": [],
            "_model_module": "@jupyter-widgets/controls",
            "_model_module_version": "1.5.0",
            "_model_name": "HTMLModel",
            "_view_count": null,
            "_view_module": "@jupyter-widgets/controls",
            "_view_module_version": "1.5.0",
            "_view_name": "HTMLView",
            "description": "",
            "description_tooltip": null,
            "layout": "IPY_MODEL_3d74527f03dd434f82cdc9599e583aac",
            "placeholder": "​",
            "style": "IPY_MODEL_45b8afcc495e48208a9db33b25d930da",
            "value": "100%"
          }
        },
        "5e8c2a3e03584d89bb5cc1ced33c33a9": {
          "model_module": "@jupyter-widgets/controls",
          "model_name": "FloatProgressModel",
          "model_module_version": "1.5.0",
          "state": {
            "_dom_classes": [],
            "_model_module": "@jupyter-widgets/controls",
            "_model_module_version": "1.5.0",
            "_model_name": "FloatProgressModel",
            "_view_count": null,
            "_view_module": "@jupyter-widgets/controls",
            "_view_module_version": "1.5.0",
            "_view_name": "ProgressView",
            "bar_style": "success",
            "description": "",
            "description_tooltip": null,
            "layout": "IPY_MODEL_86deffa01096422da51b5322e4d2f144",
            "max": 170498071,
            "min": 0,
            "orientation": "horizontal",
            "style": "IPY_MODEL_81ffad210c7b45e3bb54e1d664087f6d",
            "value": 170498071
          }
        },
        "156896771bf743fea890cb57ee3b4887": {
          "model_module": "@jupyter-widgets/controls",
          "model_name": "HTMLModel",
          "model_module_version": "1.5.0",
          "state": {
            "_dom_classes": [],
            "_model_module": "@jupyter-widgets/controls",
            "_model_module_version": "1.5.0",
            "_model_name": "HTMLModel",
            "_view_count": null,
            "_view_module": "@jupyter-widgets/controls",
            "_view_module_version": "1.5.0",
            "_view_name": "HTMLView",
            "description": "",
            "description_tooltip": null,
            "layout": "IPY_MODEL_6f111945df6d4915af73a101f35ee465",
            "placeholder": "​",
            "style": "IPY_MODEL_4953225a92d9468e8ee0a8594e0e19f7",
            "value": " 170498071/170498071 [00:13&lt;00:00, 13971097.02it/s]"
          }
        },
        "21f79aa612ae4094b3f787893e1d3a54": {
          "model_module": "@jupyter-widgets/base",
          "model_name": "LayoutModel",
          "model_module_version": "1.2.0",
          "state": {
            "_model_module": "@jupyter-widgets/base",
            "_model_module_version": "1.2.0",
            "_model_name": "LayoutModel",
            "_view_count": null,
            "_view_module": "@jupyter-widgets/base",
            "_view_module_version": "1.2.0",
            "_view_name": "LayoutView",
            "align_content": null,
            "align_items": null,
            "align_self": null,
            "border": null,
            "bottom": null,
            "display": null,
            "flex": null,
            "flex_flow": null,
            "grid_area": null,
            "grid_auto_columns": null,
            "grid_auto_flow": null,
            "grid_auto_rows": null,
            "grid_column": null,
            "grid_gap": null,
            "grid_row": null,
            "grid_template_areas": null,
            "grid_template_columns": null,
            "grid_template_rows": null,
            "height": null,
            "justify_content": null,
            "justify_items": null,
            "left": null,
            "margin": null,
            "max_height": null,
            "max_width": null,
            "min_height": null,
            "min_width": null,
            "object_fit": null,
            "object_position": null,
            "order": null,
            "overflow": null,
            "overflow_x": null,
            "overflow_y": null,
            "padding": null,
            "right": null,
            "top": null,
            "visibility": null,
            "width": null
          }
        },
        "3d74527f03dd434f82cdc9599e583aac": {
          "model_module": "@jupyter-widgets/base",
          "model_name": "LayoutModel",
          "model_module_version": "1.2.0",
          "state": {
            "_model_module": "@jupyter-widgets/base",
            "_model_module_version": "1.2.0",
            "_model_name": "LayoutModel",
            "_view_count": null,
            "_view_module": "@jupyter-widgets/base",
            "_view_module_version": "1.2.0",
            "_view_name": "LayoutView",
            "align_content": null,
            "align_items": null,
            "align_self": null,
            "border": null,
            "bottom": null,
            "display": null,
            "flex": null,
            "flex_flow": null,
            "grid_area": null,
            "grid_auto_columns": null,
            "grid_auto_flow": null,
            "grid_auto_rows": null,
            "grid_column": null,
            "grid_gap": null,
            "grid_row": null,
            "grid_template_areas": null,
            "grid_template_columns": null,
            "grid_template_rows": null,
            "height": null,
            "justify_content": null,
            "justify_items": null,
            "left": null,
            "margin": null,
            "max_height": null,
            "max_width": null,
            "min_height": null,
            "min_width": null,
            "object_fit": null,
            "object_position": null,
            "order": null,
            "overflow": null,
            "overflow_x": null,
            "overflow_y": null,
            "padding": null,
            "right": null,
            "top": null,
            "visibility": null,
            "width": null
          }
        },
        "45b8afcc495e48208a9db33b25d930da": {
          "model_module": "@jupyter-widgets/controls",
          "model_name": "DescriptionStyleModel",
          "model_module_version": "1.5.0",
          "state": {
            "_model_module": "@jupyter-widgets/controls",
            "_model_module_version": "1.5.0",
            "_model_name": "DescriptionStyleModel",
            "_view_count": null,
            "_view_module": "@jupyter-widgets/base",
            "_view_module_version": "1.2.0",
            "_view_name": "StyleView",
            "description_width": ""
          }
        },
        "86deffa01096422da51b5322e4d2f144": {
          "model_module": "@jupyter-widgets/base",
          "model_name": "LayoutModel",
          "model_module_version": "1.2.0",
          "state": {
            "_model_module": "@jupyter-widgets/base",
            "_model_module_version": "1.2.0",
            "_model_name": "LayoutModel",
            "_view_count": null,
            "_view_module": "@jupyter-widgets/base",
            "_view_module_version": "1.2.0",
            "_view_name": "LayoutView",
            "align_content": null,
            "align_items": null,
            "align_self": null,
            "border": null,
            "bottom": null,
            "display": null,
            "flex": null,
            "flex_flow": null,
            "grid_area": null,
            "grid_auto_columns": null,
            "grid_auto_flow": null,
            "grid_auto_rows": null,
            "grid_column": null,
            "grid_gap": null,
            "grid_row": null,
            "grid_template_areas": null,
            "grid_template_columns": null,
            "grid_template_rows": null,
            "height": null,
            "justify_content": null,
            "justify_items": null,
            "left": null,
            "margin": null,
            "max_height": null,
            "max_width": null,
            "min_height": null,
            "min_width": null,
            "object_fit": null,
            "object_position": null,
            "order": null,
            "overflow": null,
            "overflow_x": null,
            "overflow_y": null,
            "padding": null,
            "right": null,
            "top": null,
            "visibility": null,
            "width": null
          }
        },
        "81ffad210c7b45e3bb54e1d664087f6d": {
          "model_module": "@jupyter-widgets/controls",
          "model_name": "ProgressStyleModel",
          "model_module_version": "1.5.0",
          "state": {
            "_model_module": "@jupyter-widgets/controls",
            "_model_module_version": "1.5.0",
            "_model_name": "ProgressStyleModel",
            "_view_count": null,
            "_view_module": "@jupyter-widgets/base",
            "_view_module_version": "1.2.0",
            "_view_name": "StyleView",
            "bar_color": null,
            "description_width": ""
          }
        },
        "6f111945df6d4915af73a101f35ee465": {
          "model_module": "@jupyter-widgets/base",
          "model_name": "LayoutModel",
          "model_module_version": "1.2.0",
          "state": {
            "_model_module": "@jupyter-widgets/base",
            "_model_module_version": "1.2.0",
            "_model_name": "LayoutModel",
            "_view_count": null,
            "_view_module": "@jupyter-widgets/base",
            "_view_module_version": "1.2.0",
            "_view_name": "LayoutView",
            "align_content": null,
            "align_items": null,
            "align_self": null,
            "border": null,
            "bottom": null,
            "display": null,
            "flex": null,
            "flex_flow": null,
            "grid_area": null,
            "grid_auto_columns": null,
            "grid_auto_flow": null,
            "grid_auto_rows": null,
            "grid_column": null,
            "grid_gap": null,
            "grid_row": null,
            "grid_template_areas": null,
            "grid_template_columns": null,
            "grid_template_rows": null,
            "height": null,
            "justify_content": null,
            "justify_items": null,
            "left": null,
            "margin": null,
            "max_height": null,
            "max_width": null,
            "min_height": null,
            "min_width": null,
            "object_fit": null,
            "object_position": null,
            "order": null,
            "overflow": null,
            "overflow_x": null,
            "overflow_y": null,
            "padding": null,
            "right": null,
            "top": null,
            "visibility": null,
            "width": null
          }
        },
        "4953225a92d9468e8ee0a8594e0e19f7": {
          "model_module": "@jupyter-widgets/controls",
          "model_name": "DescriptionStyleModel",
          "model_module_version": "1.5.0",
          "state": {
            "_model_module": "@jupyter-widgets/controls",
            "_model_module_version": "1.5.0",
            "_model_name": "DescriptionStyleModel",
            "_view_count": null,
            "_view_module": "@jupyter-widgets/base",
            "_view_module_version": "1.2.0",
            "_view_name": "StyleView",
            "description_width": ""
          }
        }
      }
    }
  },
  "nbformat": 4,
  "nbformat_minor": 5
}