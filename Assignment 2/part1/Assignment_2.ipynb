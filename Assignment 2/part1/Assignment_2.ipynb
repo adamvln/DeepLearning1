{
  "cells": [
    {
      "cell_type": "code",
      "execution_count": 1,
      "metadata": {
        "id": "ded10de8"
      },
      "outputs": [],
      "source": [
        "import torch \n",
        "import torch.nn as nn\n",
        "import torchvision\n",
        "from tqdm import tqdm\n",
        "import numpy as np\n",
        "import matplotlib.pyplot as plt\n",
        "\n",
        "device = torch.device(\"cuda:0\" if torch.cuda.is_available() else \"cpu\")"
      ],
      "id": "ded10de8"
    },
    {
      "cell_type": "code",
      "execution_count": 2,
      "metadata": {
        "id": "PkGTu93XrnM5"
      },
      "outputs": [],
      "source": [
        "def set_seed(seed):\n",
        "    \"\"\"\n",
        "    Function for setting the seed for reproducibility.\n",
        "    \"\"\"\n",
        "    np.random.seed(seed)\n",
        "    torch.manual_seed(seed)\n",
        "    if torch.cuda.is_available():\n",
        "        torch.cuda.manual_seed(seed)\n",
        "        torch.cuda.manual_seed_all(seed)\n",
        "    torch.backends.cudnn.deterministic = True\n",
        "    torch.backends.cudnn.benchmark = False\n",
        "\n",
        "set_seed(42)"
      ],
      "id": "PkGTu93XrnM5"
    },
    {
      "cell_type": "code",
      "execution_count": 3,
      "metadata": {
        "colab": {
          "base_uri": "https://localhost:8080/",
          "height": 318,
          "referenced_widgets": [
            "5fbc1b209a1a4eac8578173d40b27481",
            "e11b5cd4a31048a8adbb15d4eae718ae",
            "b25be4e1857149d2a02c38d5736027ce",
            "83ddc3dcbbd94dbe82604b9502246f88",
            "bfc25a8150214ceda462cb38f49cd0ce",
            "a34753375f544dbf9e88effe0b0188a0",
            "1710a56bf9e24455b5ba034df35a8979",
            "e713bef285d74995b3776624e7371716",
            "40c3134040774e7995785ab1429e6210",
            "441ed5a0c9cf471085fbc0b8248db68e",
            "b99f9108033d4ae480fcfc3c3dcb263f",
            "7a99acf7d35b471893290dee0e2bb154",
            "c8735d0070be459d98b7937b1d8cee61",
            "29f80628646b42d1a0d3ab7a6bc00b63",
            "1deb43782f394b5fa281277bf8c974b2",
            "84afdc336be7429ebdcddf92f32b742d",
            "d05648ea9c8a48b38abbbd8e4c99f247",
            "a57f89a8f93b4d3da92e5926b5ba3ba0",
            "88f9065e1e794f8ea93908bbdab96695",
            "23caedef56ca4118998f738543e75991",
            "6f60d3f662c645638cfa0d9c6258ea84",
            "f8bcad1aef824999ad4bee2f077cae9f",
            "6a1172fda62d47f19a2f14295cf356f0",
            "c3cf08bf15f7403a9d5ff9f1827115be",
            "32c356de72d44e7e88f9ce1074227c44",
            "d18fcf970986416aacd3769b7a9adc70",
            "1484b74c07f84ffd816aa791299c733e",
            "85883a95a6ee42fca65aaca7c677bb9e",
            "0fe327b536c14d369891fe7d26a2db2f",
            "de5c5397adda488fabba62031cf2522c",
            "18d50736cb8d4e55b0c8e6b765c2c2a0",
            "368d160daf9840278d0db8f47b271df3",
            "d5cbf24bf2f34a8e8369327ffa70487e",
            "f2bc009a042a423783cc17e6a3ad80a1",
            "e34a1b0b471d4c2f90349ffa7951753a",
            "f486871060fb4a87ae680bac6b056ddd",
            "a0fee32a63094a5dab132495e7a6f09a",
            "76a1873f6bb44f5db16625b793a21ad0",
            "ef3f8089b99d419987cd568959313453",
            "a5794c5956114ed192842c690646df15",
            "55810ad8e7984d11b79c555d44945753",
            "21ff1f1c442a404da322689953ce9b52",
            "2722a3094ac64021afae901727d3c967",
            "a7d238858bc24b2ca14da19ec7e691df",
            "bc5e41b2db3848c3939a4890e0d1c55d",
            "09f2b7a2ce1d4f7994c72b25dc745d41",
            "2441e1c9f2a04ee7afdbed3cd244f13c",
            "46f3d522a9704414989fa93e6b8751f5",
            "c3a68a7c1058447bbbae875456a8bddd",
            "1b2db11e4b3e40a490bb5d661588ee2a",
            "805eabaefa324eb8bf175f5b03c49e7e",
            "79edfaa60ef24e7c9bc5e715dd06bd61",
            "b70c79f2d6504b258e071e0c5b75f64b",
            "9ec0e18333714b078d87a211d89415cc",
            "8c9f6abc01db4fa2b569ed185486027a",
            "8fd84309d46a40a3b441210d44ef5dd2",
            "bc87eca8c2ba4fbeab6cb2e935abfc1f",
            "3db8520b02c84098824cb6b99af85f23",
            "398404fe74584c4e957f11d4591a0765",
            "073f6dc18ac44581bcb518ff8637510f",
            "2ce4476c4ecc4c3dbc818d1911245a54",
            "eb126877073a43a7aa176dcef7981bd3",
            "1d7ad54032f240ddbd6e86b3cdb5c835",
            "8c21a1b5ffcd4d55accd7695aa8551a7",
            "5be5c356631549d6a16217b4b6620476",
            "a4bd3691d4af4bccab95ab4cb693e712"
          ]
        },
        "id": "6XU_9FiKhViE",
        "outputId": "3d6d020d-99ef-4d5e-94eb-5ff9d3b9eb4e"
      },
      "outputs": [
        {
          "output_type": "stream",
          "name": "stderr",
          "text": [
            "Downloading: \"https://download.pytorch.org/models/vgg11-8a719046.pth\" to /root/.cache/torch/hub/checkpoints/vgg11-8a719046.pth\n"
          ]
        },
        {
          "output_type": "display_data",
          "data": {
            "text/plain": [
              "  0%|          | 0.00/507M [00:00<?, ?B/s]"
            ],
            "application/vnd.jupyter.widget-view+json": {
              "version_major": 2,
              "version_minor": 0,
              "model_id": "5fbc1b209a1a4eac8578173d40b27481"
            }
          },
          "metadata": {}
        },
        {
          "output_type": "stream",
          "name": "stderr",
          "text": [
            "Downloading: \"https://download.pytorch.org/models/vgg11_bn-6002323d.pth\" to /root/.cache/torch/hub/checkpoints/vgg11_bn-6002323d.pth\n"
          ]
        },
        {
          "output_type": "display_data",
          "data": {
            "text/plain": [
              "  0%|          | 0.00/507M [00:00<?, ?B/s]"
            ],
            "application/vnd.jupyter.widget-view+json": {
              "version_major": 2,
              "version_minor": 0,
              "model_id": "7a99acf7d35b471893290dee0e2bb154"
            }
          },
          "metadata": {}
        },
        {
          "output_type": "stream",
          "name": "stderr",
          "text": [
            "Downloading: \"https://download.pytorch.org/models/resnet18-f37072fd.pth\" to /root/.cache/torch/hub/checkpoints/resnet18-f37072fd.pth\n"
          ]
        },
        {
          "output_type": "display_data",
          "data": {
            "text/plain": [
              "  0%|          | 0.00/44.7M [00:00<?, ?B/s]"
            ],
            "application/vnd.jupyter.widget-view+json": {
              "version_major": 2,
              "version_minor": 0,
              "model_id": "6a1172fda62d47f19a2f14295cf356f0"
            }
          },
          "metadata": {}
        },
        {
          "output_type": "stream",
          "name": "stderr",
          "text": [
            "Downloading: \"https://download.pytorch.org/models/resnet34-b627a593.pth\" to /root/.cache/torch/hub/checkpoints/resnet34-b627a593.pth\n"
          ]
        },
        {
          "output_type": "display_data",
          "data": {
            "text/plain": [
              "  0%|          | 0.00/83.3M [00:00<?, ?B/s]"
            ],
            "application/vnd.jupyter.widget-view+json": {
              "version_major": 2,
              "version_minor": 0,
              "model_id": "f2bc009a042a423783cc17e6a3ad80a1"
            }
          },
          "metadata": {}
        },
        {
          "output_type": "stream",
          "name": "stderr",
          "text": [
            "Downloading: \"https://download.pytorch.org/models/densenet121-a639ec97.pth\" to /root/.cache/torch/hub/checkpoints/densenet121-a639ec97.pth\n"
          ]
        },
        {
          "output_type": "display_data",
          "data": {
            "text/plain": [
              "  0%|          | 0.00/30.8M [00:00<?, ?B/s]"
            ],
            "application/vnd.jupyter.widget-view+json": {
              "version_major": 2,
              "version_minor": 0,
              "model_id": "bc5e41b2db3848c3939a4890e0d1c55d"
            }
          },
          "metadata": {}
        },
        {
          "output_type": "stream",
          "name": "stderr",
          "text": [
            "Downloading: \"https://download.pytorch.org/models/mobilenet_v3_small-047dcff4.pth\" to /root/.cache/torch/hub/checkpoints/mobilenet_v3_small-047dcff4.pth\n"
          ]
        },
        {
          "output_type": "display_data",
          "data": {
            "text/plain": [
              "  0%|          | 0.00/9.83M [00:00<?, ?B/s]"
            ],
            "application/vnd.jupyter.widget-view+json": {
              "version_major": 2,
              "version_minor": 0,
              "model_id": "8fd84309d46a40a3b441210d44ef5dd2"
            }
          },
          "metadata": {}
        }
      ],
      "source": [
        "DATASET = \"IMAGENET1K_V1\"\n",
        "##Dictionnary with all the models\n",
        "models = {\n",
        "    \"VGG11_no_bn\" : torchvision.models.vgg11(weights = DATASET),\n",
        "    \"VGG11_bn\" : torchvision.models.vgg11_bn(weights = DATASET),\n",
        "    \"Resnet18\" : torchvision.models.resnet18(weights = DATASET),\n",
        "    \"Resnet34\" : torchvision.models.resnet34(weights = DATASET),\n",
        "    \"Densenet121\" : torchvision.models.densenet121(weights = DATASET),\n",
        "    \"MobileNet-v3-Small\" : torchvision.models.mobilenet_v3_small(weights = DATASET)\n",
        "     }\n",
        "##Dictionnary with Top 1 accuracy on ImageNet for each model\n",
        "acc_net = {\n",
        "    \"VGG11_no_bn\" : 69.02,\n",
        "    \"VGG11_bn\" : 70.37,\n",
        "    \"Resnet18\" : 69.758,\n",
        "    \"Resnet34\" : 73.314,\n",
        "    \"Densenet121\" : 74.434,\n",
        "    \"MobileNet-v3-Small\" : 67.668\n",
        "}\n",
        "##Dictionnary with nb parameters for each model\n",
        "param_net = {\n",
        "    \"VGG11_no_bn\" : 132863336,\n",
        "    \"VGG11_bn\" : 132868840,\n",
        "    \"Resnet18\" : 11689512,\n",
        "    \"Resnet34\" : 21797672,\n",
        "    \"Densenet121\" : 7978856,\n",
        "    \"MobileNet-v3-Small\" : 2542856\n",
        "}\n",
        "\n",
        "##Dictionnary with nb parameters for each model\n",
        "\n",
        "\n"
      ],
      "id": "6XU_9FiKhViE"
    },
    {
      "cell_type": "code",
      "execution_count": null,
      "metadata": {
        "id": "PLQ4zIl9ji_O"
      },
      "outputs": [],
      "source": [
        "##Computation of inference times\n",
        "def get_inference_time(model, no_grad = True):\n",
        "  ''' \n",
        "  Get the average inference time of a model averaged over 100 iterations\n",
        "  Arguments : \n",
        "    model \n",
        "  Return : \n",
        "    np.mean(inferences_time) : mean of the 100 inference times measured for each pass\n",
        "  '''\n",
        "  start = torch.cuda.Event(enable_timing=True)\n",
        "  end = torch.cuda.Event(enable_timing=True)\n",
        "  model.eval()\n",
        "  model = model.to(device)\n",
        "\n",
        "  inference_times = []\n",
        "  fake_image = torch.rand((64, 3, 256, 256)).to(device)\n",
        "  if no_grad == True:\n",
        "    with torch.no_grad():\n",
        "      #gpu warmup\n",
        "      for j in range(0,10):\n",
        "        model(fake_image)\n",
        "\n",
        "      for i in range(1,100):\n",
        "        torch.cuda\n",
        "        start.record()\n",
        "        model(fake_image)\n",
        "        end.record()\n",
        "        torch.cuda.synchronize()\n",
        "        inference_times.append(start.elapsed_time(end))\n",
        "  else:\n",
        "    for i in range(1,100):\n",
        "        start.record()\n",
        "        model(fake_image)\n",
        "        end.record()\n",
        "        torch.cuda.synchronize()\n",
        "        inference_times.append(start.elapsed_time(end))\n",
        "\n",
        "  return np.mean(inference_times)\n",
        "\n",
        "inf_net = {}\n",
        "for key, item in models.items():\n",
        "    inf_net[key] = get_inference_time(item, True)\n",
        "\n",
        "inf_net_grad = {}\n",
        "for key, item in models.items():\n",
        "    inf_net_grad[key] = get_inference_time(item, False)\n",
        "\n",
        "\n",
        "\n",
        "\n"
      ],
      "id": "PLQ4zIl9ji_O"
    },
    {
      "cell_type": "markdown",
      "metadata": {
        "id": "7wBKs_r-8CIh"
      },
      "source": [
        "# QUESTION 1.1.A\n",
        "\n",
        "First trend : the longer the inference time, the higher the accuracy on Image Net. It would make sens because more inference time means more computations so deeper models with more parameters that are supposedly more efficient.\n",
        "\n",
        "The second trend is the higher the number of parameters, the higher the inference time. It would make sense as more parameters needs more computations, which take indeed more time. One good example is VGG11 that has a lower inference time without batch normalization, as it does less computation than with batch normalization."
      ],
      "id": "7wBKs_r-8CIh"
    },
    {
      "cell_type": "code",
      "execution_count": null,
      "metadata": {
        "colab": {
          "base_uri": "https://localhost:8080/",
          "height": 591
        },
        "id": "XImD5g3YoL4Z",
        "outputId": "8debef66-5ca3-41f8-b578-7cdfa82a3b2a"
      },
      "outputs": [
        {
          "data": {
            "text/plain": [
              "Text(0.5, 1.0, 'Inference time vs number of parameters for several models')"
            ]
          },
          "execution_count": 4,
          "metadata": {},
          "output_type": "execute_result"
        },
        {
          "data": {
            "image/png": "[encoded data removed]",
            "text/plain": [
              "<Figure size 432x288 with 1 Axes>"
            ]
          },
          "metadata": {},
          "output_type": "display_data"
        },
        {
          "data": {
            "image/png": "[encoded data removed]",
            "text/plain": [
              "<Figure size 432x288 with 1 Axes>"
            ]
          },
          "metadata": {},
          "output_type": "display_data"
        }
      ],
      "source": [
        "plt.figure()\n",
        "for key, _ in models.items():\n",
        "  plt.scatter(inf_net[key], acc_net[key], label = key)\n",
        "plt.xlabel(\"Inference time\")\n",
        "plt.ylabel(\"Top 1 - Accuracy\")\n",
        "plt.legend(prop={'size': 8})\n",
        "plt.title(\"Top 1 Accuracy on Image Net vs Inference Time for several models\")\n",
        "\n",
        "plt.figure()\n",
        "for key, _ in models.items():\n",
        "  plt.scatter(param_net[key], inf_net[key], label = key)\n",
        "plt.xlabel(\"Number of parameters\")\n",
        "plt.ylabel(\"Inference time\")\n",
        "plt.legend(prop={'size': 8})\n",
        "plt.title(\"Inference time vs number of parameters for several models\")"
      ],
      "id": "XImD5g3YoL4Z"
    },
    {
      "cell_type": "markdown",
      "metadata": {
        "id": "vdgC_AV7xZzS"
      },
      "source": [
        "# Question 1.1.B\n",
        "\n",
        "When the gradients are not disabled, the model has to save the values of the gradients in the memory, even if they are not used. So it adds a step to the forward pass, hence it should take more time.\n",
        "\n",
        "torch.no_grad() disables the gradient computation that are not useful for inference."
      ],
      "id": "vdgC_AV7xZzS"
    },
    {
      "cell_type": "code",
      "execution_count": null,
      "metadata": {
        "colab": {
          "base_uri": "https://localhost:8080/",
          "height": 570
        },
        "id": "6KIZ44Gz3utZ",
        "outputId": "362f1c59-4e01-4b33-9aec-b435d3ab2476"
      },
      "outputs": [
        {
          "data": {
            "text/plain": [
              "<matplotlib.legend.Legend at 0x7f87362431d0>"
            ]
          },
          "execution_count": 5,
          "metadata": {},
          "output_type": "execute_result"
        },
        {
          "data": {
            "image/png": "[encoded data removed]",
            "text/plain": [
              "<Figure size 648x648 with 1 Axes>"
            ]
          },
          "metadata": {},
          "output_type": "display_data"
        }
      ],
      "source": [
        "plt.figure(figsize = (9,9))\n",
        "plt.bar(list(models.keys()), inf_net_grad.values(), label = \"without no_grad\")\n",
        "plt.xlabel(\"Models\")\n",
        "plt.ylabel(\"Inference time\")\n",
        "plt.bar(list(models.keys()), inf_net.values(), label = \"with no_grad\")\n",
        "plt.title(\"\")\n",
        "plt.legend()\n",
        "\n"
      ],
      "id": "6KIZ44Gz3utZ"
    },
    {
      "cell_type": "markdown",
      "metadata": {
        "id": "F5ESe9dxIAQm"
      },
      "source": [
        "# Question 1.1.C"
      ],
      "id": "F5ESe9dxIAQm"
    },
    {
      "cell_type": "code",
      "execution_count": null,
      "metadata": {
        "id": "K_TnwCtgB2KM"
      },
      "outputs": [],
      "source": [
        "def get_memory_allocated(model, no_grad = True):\n",
        "  ''' \n",
        "  Get the allocated memory after a forward pass of a model\n",
        "  Arguments : \n",
        "    model\n",
        "    no_grad : True if no gradients and False if with gradients\n",
        "  Returns : \n",
        "    memory_2 - memory_2 : memory allocated after a forward pass\n",
        "  '''\n",
        "  torch.cuda.empty_cache()\n",
        "  fake_image = torch.rand((64, 3, 256, 256)).to(device)\n",
        "  model = model.to(device)\n",
        "  model.eval()\n",
        "\n",
        "  if no_grad == True:\n",
        "    with torch.no_grad():\n",
        "      memory_1 = torch.cuda.memory_allocated()\n",
        "      y = model(fake_image)\n",
        "      memory_2 = torch.cuda.memory_allocated()\n",
        "      return memory_2 - memory_1\n",
        "  else:\n",
        "    memory_1 = torch.cuda.memory_allocated()\n",
        "    y = model(fake_image)\n",
        "    memory_2 = torch.cuda.memory_allocated()\n",
        "    return memory_2 - memory_1\n",
        "\n",
        "memory_net = {}\n",
        "for key, item in models.items():\n",
        "    memory_net[key] = get_memory_allocated(item, True)\n",
        "\n",
        "memory_net_grad = {}\n",
        "for key, item in models.items():\n",
        "    memory_net_grad[key] = get_memory_allocated(item, False)\n",
        "\n",
        "\n",
        "\n"
      ],
      "id": "K_TnwCtgB2KM"
    },
    {
      "cell_type": "code",
      "execution_count": null,
      "metadata": {
        "colab": {
          "base_uri": "https://localhost:8080/",
          "height": 581
        },
        "id": "p6LmuA-RGOgX",
        "outputId": "5a9460b6-9ec9-4dd1-b419-88bd65cbbf84"
      },
      "outputs": [
        {
          "data": {
            "text/plain": [
              "<matplotlib.legend.Legend at 0x7f8736075e50>"
            ]
          },
          "execution_count": 7,
          "metadata": {},
          "output_type": "execute_result"
        },
        {
          "data": {
            "image/png": "[encoded data removed]",
            "text/plain": [
              "<Figure size 648x648 with 1 Axes>"
            ]
          },
          "metadata": {},
          "output_type": "display_data"
        }
      ],
      "source": [
        "plt.figure(figsize = (9,9))\n",
        "plt.bar(list(models.keys()), memory_net_grad.values(), label = \"with grad\")\n",
        "plt.xlabel(\"Models\")\n",
        "plt.ylabel(\"Memory allocated\")\n",
        "plt.bar(list(models.keys()), memory_net.values(), label = \"without grad\")\n",
        "plt.title(\"\")\n",
        "plt.legend()"
      ],
      "id": "p6LmuA-RGOgX"
    },
    {
      "cell_type": "markdown",
      "metadata": {
        "id": "1ItIF-C_N82B"
      },
      "source": [
        "# QUESTION 1.2.A\n",
        "\n"
      ],
      "id": "1ItIF-C_N82B"
    },
    {
      "cell_type": "code",
      "execution_count": 4,
      "metadata": {
        "colab": {
          "base_uri": "https://localhost:8080/",
          "height": 122,
          "referenced_widgets": [
            "9f328f68e0534a1e97bc91018cf8bc19",
            "8d4de7190f74469da6105cc5f432ad2a",
            "2df47799c4714da6997da0d27d0c12cb",
            "573e7fd0a9e64adca1cb02be02ebfe43",
            "36c933dd52034ed4a8872bedcde713f4",
            "a45386f26c0943228a2b677256cab51a",
            "b3074ef010d14297a33d7f2ae86dd46b",
            "282ddd42b3be4aaab2579c9d1284d1ee",
            "e1378136b7b94d9cbe894fbd5a5ac54d",
            "1d03d06e3afb481ea26ddbe0d154bfc9",
            "e852b9e321164dc4921501d3c2ace3d9"
          ]
        },
        "id": "wEBX94BGPCzY",
        "outputId": "33b3381e-3587-4905-f9d9-dd38afa10c41"
      },
      "outputs": [
        {
          "output_type": "stream",
          "name": "stdout",
          "text": [
            "Downloading https://www.cs.toronto.edu/~kriz/cifar-100-python.tar.gz to data/cifar-100-python.tar.gz\n"
          ]
        },
        {
          "output_type": "display_data",
          "data": {
            "text/plain": [
              "  0%|          | 0/169001437 [00:00<?, ?it/s]"
            ],
            "application/vnd.jupyter.widget-view+json": {
              "version_major": 2,
              "version_minor": 0,
              "model_id": "9f328f68e0534a1e97bc91018cf8bc19"
            }
          },
          "metadata": {}
        },
        {
          "output_type": "stream",
          "name": "stdout",
          "text": [
            "Extracting data/cifar-100-python.tar.gz to data\n",
            "Files already downloaded and verified\n",
            "Files already downloaded and verified\n"
          ]
        }
      ],
      "source": [
        "from torchvision.datasets import CIFAR100\n",
        "from torch.utils.data import DataLoader\n",
        "from torch.utils.data import random_split\n",
        "from torchvision import transforms\n",
        "\n",
        "    \n",
        "import torch\n",
        "\n",
        "from torchvision.datasets import CIFAR100\n",
        "from torch.utils.data import random_split\n",
        "from torchvision import transforms\n",
        "\n",
        "class AddGaussianNoise(torch.nn.Module):\n",
        "  def __init__(self, mean=0., std=0.1):\n",
        "          self.mean = mean\n",
        "          self.std = std\n",
        "\n",
        "  def __call__(self, img):\n",
        "      #######################\n",
        "          return img + torch.normal(self.mean, self.std, size = img.size())\n",
        "  def __repr__(self):\n",
        "        return self.__class__.__name__ + '(mean={0}, std={1})'.format(self.mean, self.std)\n",
        "\n",
        "def add_augmentation(augmentation_name, transform_list):\n",
        "    \"\"\"\n",
        "    Adds an augmentation transform to the list.\n",
        "    Args:\n",
        "        augmentation_name: Name of the augmentation to use.\n",
        "        transform_list: List of transforms to add the augmentation to.\n",
        "    \"\"\"\n",
        "    #######################\n",
        "    # PUT YOUR CODE HERE  #\n",
        "    #######################\n",
        "    # Create a new transformation based on the augmentation_name.\n",
        "\n",
        "    liste_aug =[]\n",
        "    for name in augmentation_name:\n",
        "      if name == \"color\":\n",
        "        transform_list.append(transforms.ColorJitter(brightness=0.2, contrast=0.2, saturation=0.1, hue=0.1))\n",
        "      if name == \"rotation\":\n",
        "        transform_list.append(transforms.RandomRotation(0.25))\n",
        "      if name == \"noise\":\n",
        "        transform_list.append(AddGaussianNoise())\n",
        "    \n",
        "    # Add the new transformation to the list.\n",
        "    \n",
        "\n",
        "    #######################\n",
        "    # END OF YOUR CODE    #\n",
        "    #######################\n",
        "\n",
        "\n",
        "def get_train_validation_set(data_dir, validation_size=5000, augmentation_name=None):\n",
        "    \"\"\"\n",
        "    Returns the training and validation set of CIFAR100.\n",
        "    Args:\n",
        "        data_dir: Directory where the data should be stored.\n",
        "        validation_size: Size of the validation size\n",
        "        augmentation_name: The name of the augmentation to use.\n",
        "    Returns:\n",
        "        train_dataset: Training dataset of CIFAR100\n",
        "        val_dataset: Validation dataset of CIFAR100\n",
        "    \"\"\"\n",
        "\n",
        "    mean = (0.5071, 0.4867, 0.4408)\n",
        "    std = (0.2675, 0.2565, 0.2761)\n",
        "\n",
        "    train_transform = [transforms.Resize((224, 224)),\n",
        "                       transforms.ToTensor(),\n",
        "                       transforms.Normalize(mean, std)]\n",
        "    if augmentation_name is not None:\n",
        "        add_augmentation(augmentation_name, train_transform)\n",
        "    train_transform = transforms.Compose(train_transform)\n",
        "\n",
        "    val_transform = transforms.Compose([transforms.Resize((224, 224)),\n",
        "                                        transforms.ToTensor(),\n",
        "                                        transforms.Normalize(mean, std)])\n",
        "\n",
        "    # We need to load the dataset twice because we want to use them with different transformations\n",
        "    train_dataset = CIFAR100(root=data_dir, train=True, download=True, transform=train_transform)\n",
        "    val_dataset = CIFAR100(root=data_dir, train=True, download=True, transform=val_transform)\n",
        "\n",
        "    # Subsample the validation set from the train set\n",
        "    if not 0 <= validation_size <= len(train_dataset):\n",
        "        raise ValueError(\"Validation size should be between 0 and {0}. Received: {1}.\".format(\n",
        "            len(train_dataset), validation_size))\n",
        "\n",
        "    train_dataset, _ = random_split(train_dataset,\n",
        "                                    lengths=[len(train_dataset) - validation_size, validation_size],\n",
        "                                    generator=torch.Generator().manual_seed(42))\n",
        "    _, val_dataset = random_split(val_dataset,\n",
        "                                  lengths=[len(val_dataset) - validation_size, validation_size],\n",
        "                                  generator=torch.Generator().manual_seed(42))\n",
        "\n",
        "    return train_dataset, val_dataset\n",
        "\n",
        "\n",
        "def get_test_set(data_dir, noise = \"False\"):\n",
        "    \"\"\"\n",
        "    Returns the test dataset of CIFAR100.\n",
        "    Args:\n",
        "        data_dir: Directory where the data should be stored\n",
        "    Returns:\n",
        "        test_dataset: The test dataset of CIFAR100.\n",
        "    \"\"\"\n",
        "\n",
        "    mean = (0.5071, 0.4867, 0.4408)\n",
        "    std = (0.2675, 0.2565, 0.2761)\n",
        "\n",
        "    if noise == True:\n",
        "        test_transform = transforms.Compose([transforms.Resize((224, 224)),\n",
        "                                        transforms.ToTensor(),\n",
        "                                        transforms.Normalize(mean, std),\n",
        "                                        AddGaussianNoise(0, 0.1)])\n",
        "    else:\n",
        "        test_transform = transforms.Compose([transforms.Resize((224, 224)),\n",
        "                                        transforms.ToTensor(),\n",
        "                                        transforms.Normalize(mean, std)])\n",
        "    \n",
        "    test_dataset = CIFAR100(root=data_dir, train=False, download=True, transform=test_transform)\n",
        "    return test_dataset\n",
        "\n",
        "data_dir = \"data\"\n",
        "\n",
        "train_set, val_set = get_train_validation_set(data_dir)\n",
        "test_set = get_test_set(data_dir)\n",
        "\n",
        "batch_size = 32\n",
        "\n",
        "train_loader = DataLoader(\n",
        "    train_set, batch_size, shuffle = True, drop_last = True)\n",
        "\n",
        "\n",
        "val_loader = DataLoader(\n",
        "    val_set, batch_size, shuffle = True, drop_last = False)\n",
        "\n",
        "\n",
        "test_loader = DataLoader(\n",
        "    test_set, batch_size, shuffle = True, drop_last = False)\n",
        "\n",
        "\n"
      ],
      "id": "wEBX94BGPCzY"
    },
    {
      "cell_type": "code",
      "execution_count": 5,
      "metadata": {
        "id": "DfPU-iZ-cLEr"
      },
      "outputs": [],
      "source": [
        "class EarlyStopper:\n",
        "  def __init__(self, patience = 3):\n",
        "    self.patience = patience\n",
        "    self.counter = 0\n",
        "    self.max = 0\n",
        "  def early_stop(self, validation_accuracy):\n",
        "    if validation_accuracy > self.max:\n",
        "      self.max = validation_accuracy\n",
        "      self.counter = 0\n",
        "    elif validation_accuracy < self.max:\n",
        "      self.counter += 1\n",
        "      if self.counter >= self.patience:\n",
        "        return True\n",
        "    return False\n",
        "  \n",
        "\n",
        "\n",
        "def train_batch(model, dataloader, optimizer, criterion):\n",
        "    model.train()\n",
        "    loss_per_batch = []\n",
        "    for batch_num, data in enumerate(train_loader):\n",
        "\n",
        "      images, labels = data\n",
        "      images = images.to(device)\n",
        "      labels = labels.to(device)\n",
        "\n",
        "      #Gradients to zero\n",
        "      optimizer.zero_grad()\n",
        "\n",
        "      outputs = model(images)\n",
        "\n",
        "      #Loss calculated then backprop and weight update\n",
        "      loss = criterion(outputs, labels)\n",
        "      loss.backward()\n",
        "      loss_per_batch.append(loss.item())\n",
        "\n",
        "      optimizer.step()\n",
        "\n",
        "    return loss_per_batch\n",
        "\n",
        "def eval_batch(model, dataloader):\n",
        "    running_correct = 0\n",
        "    for batch_num, data in enumerate(dataloader):\n",
        "        images, labels = data\n",
        "\n",
        "        images = images.to(device)\n",
        "        labels = labels.to(device)\n",
        "\n",
        "        outputs = model(images)\n",
        "        pred = np.argmax(outputs.cpu().detach().numpy(), axis = 1)\n",
        "        #Count and accuracy computation\n",
        "        running_correct += np.sum(labels.cpu().numpy() == pred)\n",
        "\n",
        "    return (running_correct/ len(dataloader.dataset)) * 100\n",
        "\n",
        "def plot_functions(training_loss, accuracy_loss, epochs):\n",
        "    '''\n",
        "    Plot accuracy curbs and loss curbs\n",
        "    '''\n",
        "    plt.figure()\n",
        "\n",
        "    plt.subplot(1,2,1)\n",
        "    plt.plot(np.arange(1,epochs + 1), training_loss)\n",
        "    plt.title(\"Loss function\")\n",
        "    plt.xlabel(\"Epochs\")\n",
        "    plt.ylabel(\"Loss\")\n",
        "\n",
        "    plt.subplot(1,2,2)\n",
        "    plt.plot(np.arange(1,epochs + 1), accuracy_loss)\n",
        "    plt.title(\"Validation accuracy\")\n",
        "    plt.xlabel(\"Epochs\")\n",
        "    plt.ylabel(\"Accuracy\")\n",
        "\n",
        "def train_model(model, train_loader, val_loader, epochs):\n",
        "\n",
        "  optimizer = torch.optim.Adam(model.parameters())\n",
        "  criterion = torch.nn.CrossEntropyLoss()\n",
        "  model = model.to(device)\n",
        "  loss_per_epoch = []\n",
        "  accuracy_per_epoch = []\n",
        "  early_stopper = EarlyStopper(patience = 3)\n",
        "  count_epoch = 0\n",
        "  for epoch in tqdm(range(epochs)):\n",
        "    \n",
        "    #Training for each epoch\n",
        "    loss_per_batch = train_batch(model, train_loader, optimizer, criterion)\n",
        "    print(\"Epoch {} ==> Loss : {}\".format(epoch+1, np.mean(loss_per_batch)))\n",
        "\n",
        "    #Now Validation for each epoch\n",
        "    accuracy_per_batch = eval_batch(model, val_loader)\n",
        "    #Early_stopping on validation accuracy\n",
        "    if early_stopper.early_stop(accuracy_per_batch):\n",
        "      break\n",
        "    count_epoch +=1\n",
        "    print(\"Epoch {} ==> Accuracy : {}\".format(epoch+1, accuracy_per_batch))\n",
        "\n",
        "    #We store the values of the loss and accuracies to plot\n",
        "    loss_per_epoch.append(np.mean(loss_per_batch))\n",
        "    accuracy_per_epoch.append(accuracy_per_batch)\n",
        "\n",
        "    print(\"Epoch {} ==> Accuracy : {}\".format(epoch+1, accuracy_per_batch))\n",
        "\n",
        "  #Plot of the functions\n",
        "  plot_functions(loss_per_epoch, accuracy_per_epoch, count_epoch)\n",
        "\n",
        "  return model"
      ],
      "id": "DfPU-iZ-cLEr"
    },
    {
      "cell_type": "code",
      "execution_count": 6,
      "metadata": {
        "colab": {
          "base_uri": "https://localhost:8080/"
        },
        "id": "u0AoHCD0OAFW",
        "outputId": "e7caf4b0-8ac9-4aa0-a6b7-b3a1dbec660b"
      },
      "outputs": [
        {
          "output_type": "stream",
          "name": "stdout",
          "text": [
            "Params to learn :\n",
            "\t fc.weight\n",
            "\t fc.bias\n"
          ]
        }
      ],
      "source": [
        "# Set gradient to zero for all layers of a model\n",
        "def set_parameter_requires_grad(model, feature_extracting):\n",
        "    if feature_extracting:\n",
        "        for param in model.parameters():\n",
        "            param.requires_grad = False\n",
        "\n",
        "#10 classes in CIFAR-10\n",
        "num_classes = 100\n",
        "\n",
        "#Finetuning the last layer and initialization with uniform\n",
        "model_transfer = torchvision.models.resnet18(weights = DATASET)\n",
        "\n",
        "#Deactivate gradients for all layers\n",
        "set_parameter_requires_grad(model_transfer, True)\n",
        "#Finetuning of the last linear layer\n",
        "num_ftrs = model_transfer.fc.in_features\n",
        "model_transfer.fc = nn.Linear(num_ftrs, num_classes)\n",
        "model_transfer.fc.weight = nn.init.normal_(model_transfer.fc.weight, 0, 0.01)\n",
        "model_transfer.fc.bias = nn.init.zeros_(model_transfer.fc.bias)\n",
        "\n",
        "#Print parameters used during training\n",
        "params_to_update = []\n",
        "print(\"Params to learn :\")\n",
        "for name, param in model_transfer.named_parameters():\n",
        "  if param.requires_grad == True:\n",
        "    params_to_update.append(param)\n",
        "    print(\"\\t\", name)\n"
      ],
      "id": "u0AoHCD0OAFW"
    },
    {
      "cell_type": "code",
      "execution_count": 7,
      "metadata": {
        "colab": {
          "base_uri": "https://localhost:8080/",
          "height": 934
        },
        "id": "IEuLzJzfiAmt",
        "outputId": "6da7e2fe-02cb-45f4-c720-7958367332fd"
      },
      "outputs": [
        {
          "output_type": "stream",
          "name": "stderr",
          "text": [
            "\r  0%|          | 0/20 [00:00<?, ?it/s]"
          ]
        },
        {
          "output_type": "stream",
          "name": "stdout",
          "text": [
            "Epoch 1 ==> Loss : 2.309209620799991\n"
          ]
        },
        {
          "output_type": "stream",
          "name": "stderr",
          "text": [
            "\r  5%|▌         | 1/20 [02:18<43:52, 138.54s/it]"
          ]
        },
        {
          "output_type": "stream",
          "name": "stdout",
          "text": [
            "Epoch 1 ==> Accuracy : 52.86\n",
            "Epoch 1 ==> Accuracy : 52.86\n",
            "Epoch 2 ==> Loss : 1.6432613772823665\n"
          ]
        },
        {
          "output_type": "stream",
          "name": "stderr",
          "text": [
            "\r 10%|█         | 2/20 [04:26<39:44, 132.50s/it]"
          ]
        },
        {
          "output_type": "stream",
          "name": "stdout",
          "text": [
            "Epoch 2 ==> Accuracy : 53.68000000000001\n",
            "Epoch 2 ==> Accuracy : 53.68000000000001\n",
            "Epoch 3 ==> Loss : 1.527226803143367\n"
          ]
        },
        {
          "output_type": "stream",
          "name": "stderr",
          "text": [
            "\r 15%|█▌        | 3/20 [06:35<36:59, 130.57s/it]"
          ]
        },
        {
          "output_type": "stream",
          "name": "stdout",
          "text": [
            "Epoch 3 ==> Accuracy : 55.44\n",
            "Epoch 3 ==> Accuracy : 55.44\n",
            "Epoch 4 ==> Loss : 1.4601743298438332\n"
          ]
        },
        {
          "output_type": "stream",
          "name": "stderr",
          "text": [
            "\r 20%|██        | 4/20 [08:42<34:30, 129.42s/it]"
          ]
        },
        {
          "output_type": "stream",
          "name": "stdout",
          "text": [
            "Epoch 4 ==> Accuracy : 54.82\n",
            "Epoch 4 ==> Accuracy : 54.82\n",
            "Epoch 5 ==> Loss : 1.4187999550004093\n"
          ]
        },
        {
          "output_type": "stream",
          "name": "stderr",
          "text": [
            "\r 25%|██▌       | 5/20 [10:51<32:16, 129.08s/it]"
          ]
        },
        {
          "output_type": "stream",
          "name": "stdout",
          "text": [
            "Epoch 5 ==> Accuracy : 55.300000000000004\n",
            "Epoch 5 ==> Accuracy : 55.300000000000004\n",
            "Epoch 6 ==> Loss : 1.3853502957359656\n"
          ]
        },
        {
          "output_type": "stream",
          "name": "stderr",
          "text": [
            "\r 30%|███       | 6/20 [12:59<30:01, 128.68s/it]"
          ]
        },
        {
          "output_type": "stream",
          "name": "stdout",
          "text": [
            "Epoch 6 ==> Accuracy : 56.46\n",
            "Epoch 6 ==> Accuracy : 56.46\n",
            "Epoch 7 ==> Loss : 1.3631506610137132\n"
          ]
        },
        {
          "output_type": "stream",
          "name": "stderr",
          "text": [
            "\r 35%|███▌      | 7/20 [15:07<27:51, 128.59s/it]"
          ]
        },
        {
          "output_type": "stream",
          "name": "stdout",
          "text": [
            "Epoch 7 ==> Accuracy : 55.7\n",
            "Epoch 7 ==> Accuracy : 55.7\n",
            "Epoch 8 ==> Loss : 1.3430725676915045\n"
          ]
        },
        {
          "output_type": "stream",
          "name": "stderr",
          "text": [
            "\r 40%|████      | 8/20 [17:15<25:41, 128.50s/it]"
          ]
        },
        {
          "output_type": "stream",
          "name": "stdout",
          "text": [
            "Epoch 8 ==> Accuracy : 55.620000000000005\n",
            "Epoch 8 ==> Accuracy : 55.620000000000005\n",
            "Epoch 9 ==> Loss : 1.3229374298839107\n"
          ]
        },
        {
          "output_type": "stream",
          "name": "stderr",
          "text": [
            "\r 45%|████▌     | 9/20 [19:23<23:32, 128.39s/it]"
          ]
        },
        {
          "output_type": "stream",
          "name": "stdout",
          "text": [
            "Epoch 9 ==> Accuracy : 56.64\n",
            "Epoch 9 ==> Accuracy : 56.64\n",
            "Epoch 10 ==> Loss : 1.3106673553183272\n"
          ]
        },
        {
          "output_type": "stream",
          "name": "stderr",
          "text": [
            "\r 50%|█████     | 10/20 [21:31<21:22, 128.26s/it]"
          ]
        },
        {
          "output_type": "stream",
          "name": "stdout",
          "text": [
            "Epoch 10 ==> Accuracy : 55.279999999999994\n",
            "Epoch 10 ==> Accuracy : 55.279999999999994\n",
            "Epoch 11 ==> Loss : 1.2997952691182642\n"
          ]
        },
        {
          "output_type": "stream",
          "name": "stderr",
          "text": [
            "\r 55%|█████▌    | 11/20 [23:39<19:13, 128.16s/it]"
          ]
        },
        {
          "output_type": "stream",
          "name": "stdout",
          "text": [
            "Epoch 11 ==> Accuracy : 56.06\n",
            "Epoch 11 ==> Accuracy : 56.06\n",
            "Epoch 12 ==> Loss : 1.286602782427332\n"
          ]
        },
        {
          "output_type": "stream",
          "name": "stderr",
          "text": [
            "\r 55%|█████▌    | 11/20 [25:48<21:06, 140.73s/it]\n"
          ]
        },
        {
          "output_type": "display_data",
          "data": {
            "text/plain": [
              "<Figure size 432x288 with 2 Axes>"
            ],
            "image/png": "[encoded data removed]"
          },
          "metadata": {
            "needs_background": "light"
          }
        }
      ],
      "source": [
        "y = train_model(model_transfer, train_loader, val_loader, 20)"
      ],
      "id": "IEuLzJzfiAmt"
    },
    {
      "cell_type": "code",
      "execution_count": 8,
      "metadata": {
        "colab": {
          "base_uri": "https://localhost:8080/"
        },
        "id": "KITMA8T135cG",
        "outputId": "17dd2044-5aae-419c-acc8-124bc1662724"
      },
      "outputs": [
        {
          "output_type": "stream",
          "name": "stdout",
          "text": [
            "The accuracy on test set is 55.78%.\n"
          ]
        }
      ],
      "source": [
        "accuracy_test = np.round(eval_batch(model_transfer, test_loader), 4)\n",
        "print(f\"The accuracy on test set is {accuracy_test}%.\")"
      ],
      "id": "KITMA8T135cG"
    },
    {
      "cell_type": "code",
      "execution_count": 9,
      "metadata": {
        "colab": {
          "base_uri": "https://localhost:8080/"
        },
        "id": "cL30r3hNHRE4",
        "outputId": "fed7a902-d23f-4d42-9059-028ec6c4254f"
      },
      "outputs": [
        {
          "output_type": "stream",
          "name": "stdout",
          "text": [
            "Files already downloaded and verified\n",
            "The accuracy on test set with noise is 47.8%.\n"
          ]
        }
      ],
      "source": [
        "data_dir = \"data\"\n",
        "\n",
        "test_set_noise = get_test_set(data_dir, noise = True)\n",
        "\n",
        "batch_size = 32\n",
        "\n",
        "\n",
        "\n",
        "test_loader_noise = DataLoader(\n",
        "    test_set_noise, batch_size, shuffle = True, drop_last = False)\n",
        "\n",
        "accuracy_test_noise = np.round(eval_batch(model_transfer, test_loader_noise), 4)\n",
        "print(f\"The accuracy on test set with noise is {accuracy_test_noise}%.\")"
      ],
      "id": "cL30r3hNHRE4"
    },
    {
      "cell_type": "markdown",
      "metadata": {
        "id": "qJFqB75-XT23"
      },
      "source": [
        "It is important to notice that I am using a batch size of 32, as higher would not run in google colab. The model would not be as robust to noise if my batch size was higher, like 128. "
      ],
      "id": "qJFqB75-XT23"
    },
    {
      "cell_type": "markdown",
      "metadata": {
        "id": "Ty3DN_U9mBvk"
      },
      "source": [
        "# Question 1.2.B"
      ],
      "id": "Ty3DN_U9mBvk"
    },
    {
      "cell_type": "code",
      "execution_count": 10,
      "metadata": {
        "colab": {
          "base_uri": "https://localhost:8080/"
        },
        "id": "rAxjIbI1IrT-",
        "outputId": "7a6ff3b3-3f5a-45f7-c309-dd660325514b"
      },
      "outputs": [
        {
          "output_type": "stream",
          "name": "stdout",
          "text": [
            "Files already downloaded and verified\n",
            "Files already downloaded and verified\n",
            "Files already downloaded and verified\n"
          ]
        }
      ],
      "source": [
        "data_dir = \"data\"\n",
        "\n",
        "train_set, val_set = get_train_validation_set(data_dir, augmentation_name= [\"horizontal_flip\", \"color\"])\n",
        "test_set = get_test_set(data_dir)\n",
        "\n",
        "batch_size = 32\n",
        "\n",
        "train_loader_aug = DataLoader(\n",
        "    train_set, batch_size, shuffle = True, drop_last = True)\n",
        "\n",
        "\n",
        "val_loader_aug = DataLoader(\n",
        "    val_set, batch_size, shuffle = True, drop_last = False)\n",
        "\n",
        "\n",
        "test_loader_aug = DataLoader(\n",
        "    test_set, batch_size, shuffle = True, drop_last = False)\n",
        "\n"
      ],
      "id": "rAxjIbI1IrT-"
    },
    {
      "cell_type": "code",
      "execution_count": 11,
      "metadata": {
        "colab": {
          "base_uri": "https://localhost:8080/"
        },
        "id": "Kq79DvlSmUBW",
        "outputId": "0c17ba26-4662-4b1a-aa23-e559b59f3d3a"
      },
      "outputs": [
        {
          "output_type": "stream",
          "name": "stdout",
          "text": [
            "Params to learn :\n",
            "\t fc.weight\n",
            "\t fc.bias\n"
          ]
        }
      ],
      "source": [
        "# Set gradient to zero for all layers of a model\n",
        "def set_parameter_requires_grad(model, feature_extracting):\n",
        "    if feature_extracting:\n",
        "        for param in model.parameters():\n",
        "            param.requires_grad = False\n",
        "\n",
        "#10 classes in CIFAR-10\n",
        "num_classes = 100\n",
        "\n",
        "#Finetuning the last layer and initialization with uniform\n",
        "model_transfer_aug = torchvision.models.resnet18(weights = DATASET)\n",
        "\n",
        "#Deactivate gradients for all layers\n",
        "set_parameter_requires_grad(model_transfer_aug, True)\n",
        "#Finetuning of the last linear layer\n",
        "num_ftrs = model_transfer_aug.fc.in_features\n",
        "model_transfer_aug.fc = nn.Linear(num_ftrs, num_classes)\n",
        "model_transfer_aug.fc.weight = nn.init.normal_(model_transfer_aug.fc.weight, 0, 0.01)\n",
        "model_transfer_aug.fc.bias = nn.init.zeros_(model_transfer_aug.fc.bias)\n",
        "\n",
        "#Print parameters used during training\n",
        "params_to_update = []\n",
        "print(\"Params to learn :\")\n",
        "for name, param in model_transfer_aug.named_parameters():\n",
        "  if param.requires_grad == True:\n",
        "    params_to_update.append(param)\n",
        "    print(\"\\t\", name)"
      ],
      "id": "Kq79DvlSmUBW"
    },
    {
      "cell_type": "code",
      "execution_count": 12,
      "metadata": {
        "id": "hA4KG1szYEbM",
        "colab": {
          "base_uri": "https://localhost:8080/",
          "height": 825
        },
        "outputId": "b0a4bf8e-7652-40ae-8307-013940a7d739"
      },
      "outputs": [
        {
          "output_type": "stream",
          "name": "stderr",
          "text": [
            "\r  0%|          | 0/20 [00:00<?, ?it/s]"
          ]
        },
        {
          "output_type": "stream",
          "name": "stdout",
          "text": [
            "Epoch 1 ==> Loss : 2.3071647434790816\n"
          ]
        },
        {
          "output_type": "stream",
          "name": "stderr",
          "text": [
            "\r  5%|▌         | 1/20 [02:07<40:17, 127.22s/it]"
          ]
        },
        {
          "output_type": "stream",
          "name": "stdout",
          "text": [
            "Epoch 1 ==> Accuracy : 52.64\n",
            "Epoch 1 ==> Accuracy : 52.64\n",
            "Epoch 2 ==> Loss : 1.6493574106167594\n"
          ]
        },
        {
          "output_type": "stream",
          "name": "stderr",
          "text": [
            "\r 10%|█         | 2/20 [04:14<38:07, 127.10s/it]"
          ]
        },
        {
          "output_type": "stream",
          "name": "stdout",
          "text": [
            "Epoch 2 ==> Accuracy : 53.76\n",
            "Epoch 2 ==> Accuracy : 53.76\n",
            "Epoch 3 ==> Loss : 1.5295733433444674\n"
          ]
        },
        {
          "output_type": "stream",
          "name": "stderr",
          "text": [
            "\r 15%|█▌        | 3/20 [06:21<36:02, 127.18s/it]"
          ]
        },
        {
          "output_type": "stream",
          "name": "stdout",
          "text": [
            "Epoch 3 ==> Accuracy : 55.74\n",
            "Epoch 3 ==> Accuracy : 55.74\n",
            "Epoch 4 ==> Loss : 1.462280471921815\n"
          ]
        },
        {
          "output_type": "stream",
          "name": "stderr",
          "text": [
            "\r 20%|██        | 4/20 [08:28<33:54, 127.17s/it]"
          ]
        },
        {
          "output_type": "stream",
          "name": "stdout",
          "text": [
            "Epoch 4 ==> Accuracy : 56.10000000000001\n",
            "Epoch 4 ==> Accuracy : 56.10000000000001\n",
            "Epoch 5 ==> Loss : 1.4152640512115078\n"
          ]
        },
        {
          "output_type": "stream",
          "name": "stderr",
          "text": [
            "\r 25%|██▌       | 5/20 [10:35<31:46, 127.10s/it]"
          ]
        },
        {
          "output_type": "stream",
          "name": "stdout",
          "text": [
            "Epoch 5 ==> Accuracy : 55.76\n",
            "Epoch 5 ==> Accuracy : 55.76\n",
            "Epoch 6 ==> Loss : 1.387522716398429\n"
          ]
        },
        {
          "output_type": "stream",
          "name": "stderr",
          "text": [
            "\r 30%|███       | 6/20 [12:43<29:43, 127.41s/it]"
          ]
        },
        {
          "output_type": "stream",
          "name": "stdout",
          "text": [
            "Epoch 6 ==> Accuracy : 55.86\n",
            "Epoch 6 ==> Accuracy : 55.86\n",
            "Epoch 7 ==> Loss : 1.3660112814408107\n"
          ]
        },
        {
          "output_type": "stream",
          "name": "stderr",
          "text": [
            "\r 35%|███▌      | 7/20 [14:50<27:34, 127.26s/it]"
          ]
        },
        {
          "output_type": "stream",
          "name": "stdout",
          "text": [
            "Epoch 7 ==> Accuracy : 56.8\n",
            "Epoch 7 ==> Accuracy : 56.8\n",
            "Epoch 8 ==> Loss : 1.3499990881845927\n"
          ]
        },
        {
          "output_type": "stream",
          "name": "stderr",
          "text": [
            "\r 40%|████      | 8/20 [16:57<25:25, 127.17s/it]"
          ]
        },
        {
          "output_type": "stream",
          "name": "stdout",
          "text": [
            "Epoch 8 ==> Accuracy : 56.620000000000005\n",
            "Epoch 8 ==> Accuracy : 56.620000000000005\n",
            "Epoch 9 ==> Loss : 1.321118808657482\n"
          ]
        },
        {
          "output_type": "stream",
          "name": "stderr",
          "text": [
            "\r 45%|████▌     | 9/20 [19:04<23:18, 127.14s/it]"
          ]
        },
        {
          "output_type": "stream",
          "name": "stdout",
          "text": [
            "Epoch 9 ==> Accuracy : 56.2\n",
            "Epoch 9 ==> Accuracy : 56.2\n",
            "Epoch 10 ==> Loss : 1.3120117909453841\n"
          ]
        },
        {
          "output_type": "stream",
          "name": "stderr",
          "text": [
            "\r 45%|████▌     | 9/20 [21:11<25:54, 141.31s/it]\n"
          ]
        },
        {
          "output_type": "display_data",
          "data": {
            "text/plain": [
              "<Figure size 432x288 with 2 Axes>"
            ],
            "image/png": "[encoded data removed]"
          },
          "metadata": {
            "needs_background": "light"
          }
        }
      ],
      "source": [
        "y_aug = train_model(model_transfer_aug, train_loader_aug, val_loader_aug, 20)"
      ],
      "id": "hA4KG1szYEbM"
    },
    {
      "cell_type": "code",
      "execution_count": 13,
      "metadata": {
        "id": "aFC4UZULYBG_",
        "colab": {
          "base_uri": "https://localhost:8080/"
        },
        "outputId": "96cbe8e9-cce9-4544-e331-51da4e9d09f3"
      },
      "outputs": [
        {
          "output_type": "stream",
          "name": "stdout",
          "text": [
            "The accuracy on test set is 56.59%.\n"
          ]
        }
      ],
      "source": [
        "accuracy_test = np.round(eval_batch(model_transfer_aug, test_loader_aug), 4)\n",
        "print(f\"The accuracy on test set is {accuracy_test}%.\")"
      ],
      "id": "aFC4UZULYBG_"
    }
  ],
  "metadata": {
    "accelerator": "GPU",
    "colab": {
      "provenance": []
    },
    "gpuClass": "standard",
    "kernelspec": {
      "display_name": "Python 3 (ipykernel)",
      "language": "python",
      "name": "python3"
    },
    "language_info": {
      "codemirror_mode": {
        "name": "ipython",
        "version": 3
      },
      "file_extension": ".py",
      "mimetype": "text/x-python",
      "name": "python",
      "nbconvert_exporter": "python",
      "pygments_lexer": "ipython3",
      "version": "3.10.6"
    },
    "widgets": {
      "application/vnd.jupyter.widget-state+json": {
        "5fbc1b209a1a4eac8578173d40b27481": {
          "model_module": "@jupyter-widgets/controls",
          "model_name": "HBoxModel",
          "model_module_version": "1.5.0",
          "state": {
            "_dom_classes": [],
            "_model_module": "@jupyter-widgets/controls",
            "_model_module_version": "1.5.0",
            "_model_name": "HBoxModel",
            "_view_count": null,
            "_view_module": "@jupyter-widgets/controls",
            "_view_module_version": "1.5.0",
            "_view_name": "HBoxView",
            "box_style": "",
            "children": [
              "IPY_MODEL_e11b5cd4a31048a8adbb15d4eae718ae",
              "IPY_MODEL_b25be4e1857149d2a02c38d5736027ce",
              "IPY_MODEL_83ddc3dcbbd94dbe82604b9502246f88"
            ],
            "layout": "IPY_MODEL_bfc25a8150214ceda462cb38f49cd0ce"
          }
        },
        "e11b5cd4a31048a8adbb15d4eae718ae": {
          "model_module": "@jupyter-widgets/controls",
          "model_name": "HTMLModel",
          "model_module_version": "1.5.0",
          "state": {
            "_dom_classes": [],
            "_model_module": "@jupyter-widgets/controls",
            "_model_module_version": "1.5.0",
            "_model_name": "HTMLModel",
            "_view_count": null,
            "_view_module": "@jupyter-widgets/controls",
            "_view_module_version": "1.5.0",
            "_view_name": "HTMLView",
            "description": "",
            "description_tooltip": null,
            "layout": "IPY_MODEL_a34753375f544dbf9e88effe0b0188a0",
            "placeholder": "​",
            "style": "IPY_MODEL_1710a56bf9e24455b5ba034df35a8979",
            "value": "100%"
          }
        },
        "b25be4e1857149d2a02c38d5736027ce": {
          "model_module": "@jupyter-widgets/controls",
          "model_name": "FloatProgressModel",
          "model_module_version": "1.5.0",
          "state": {
            "_dom_classes": [],
            "_model_module": "@jupyter-widgets/controls",
            "_model_module_version": "1.5.0",
            "_model_name": "FloatProgressModel",
            "_view_count": null,
            "_view_module": "@jupyter-widgets/controls",
            "_view_module_version": "1.5.0",
            "_view_name": "ProgressView",
            "bar_style": "success",
            "description": "",
            "description_tooltip": null,
            "layout": "IPY_MODEL_e713bef285d74995b3776624e7371716",
            "max": 531460341,
            "min": 0,
            "orientation": "horizontal",
            "style": "IPY_MODEL_40c3134040774e7995785ab1429e6210",
            "value": 531460341
          }
        },
        "83ddc3dcbbd94dbe82604b9502246f88": {
          "model_module": "@jupyter-widgets/controls",
          "model_name": "HTMLModel",
          "model_module_version": "1.5.0",
          "state": {
            "_dom_classes": [],
            "_model_module": "@jupyter-widgets/controls",
            "_model_module_version": "1.5.0",
            "_model_name": "HTMLModel",
            "_view_count": null,
            "_view_module": "@jupyter-widgets/controls",
            "_view_module_version": "1.5.0",
            "_view_name": "HTMLView",
            "description": "",
            "description_tooltip": null,
            "layout": "IPY_MODEL_441ed5a0c9cf471085fbc0b8248db68e",
            "placeholder": "​",
            "style": "IPY_MODEL_b99f9108033d4ae480fcfc3c3dcb263f",
            "value": " 507M/507M [00:07&lt;00:00, 68.1MB/s]"
          }
        },
        "bfc25a8150214ceda462cb38f49cd0ce": {
          "model_module": "@jupyter-widgets/base",
          "model_name": "LayoutModel",
          "model_module_version": "1.2.0",
          "state": {
            "_model_module": "@jupyter-widgets/base",
            "_model_module_version": "1.2.0",
            "_model_name": "LayoutModel",
            "_view_count": null,
            "_view_module": "@jupyter-widgets/base",
            "_view_module_version": "1.2.0",
            "_view_name": "LayoutView",
            "align_content": null,
            "align_items": null,
            "align_self": null,
            "border": null,
            "bottom": null,
            "display": null,
            "flex": null,
            "flex_flow": null,
            "grid_area": null,
            "grid_auto_columns": null,
            "grid_auto_flow": null,
            "grid_auto_rows": null,
            "grid_column": null,
            "grid_gap": null,
            "grid_row": null,
            "grid_template_areas": null,
            "grid_template_columns": null,
            "grid_template_rows": null,
            "height": null,
            "justify_content": null,
            "justify_items": null,
            "left": null,
            "margin": null,
            "max_height": null,
            "max_width": null,
            "min_height": null,
            "min_width": null,
            "object_fit": null,
            "object_position": null,
            "order": null,
            "overflow": null,
            "overflow_x": null,
            "overflow_y": null,
            "padding": null,
            "right": null,
            "top": null,
            "visibility": null,
            "width": null
          }
        },
        "a34753375f544dbf9e88effe0b0188a0": {
          "model_module": "@jupyter-widgets/base",
          "model_name": "LayoutModel",
          "model_module_version": "1.2.0",
          "state": {
            "_model_module": "@jupyter-widgets/base",
            "_model_module_version": "1.2.0",
            "_model_name": "LayoutModel",
            "_view_count": null,
            "_view_module": "@jupyter-widgets/base",
            "_view_module_version": "1.2.0",
            "_view_name": "LayoutView",
            "align_content": null,
            "align_items": null,
            "align_self": null,
            "border": null,
            "bottom": null,
            "display": null,
            "flex": null,
            "flex_flow": null,
            "grid_area": null,
            "grid_auto_columns": null,
            "grid_auto_flow": null,
            "grid_auto_rows": null,
            "grid_column": null,
            "grid_gap": null,
            "grid_row": null,
            "grid_template_areas": null,
            "grid_template_columns": null,
            "grid_template_rows": null,
            "height": null,
            "justify_content": null,
            "justify_items": null,
            "left": null,
            "margin": null,
            "max_height": null,
            "max_width": null,
            "min_height": null,
            "min_width": null,
            "object_fit": null,
            "object_position": null,
            "order": null,
            "overflow": null,
            "overflow_x": null,
            "overflow_y": null,
            "padding": null,
            "right": null,
            "top": null,
            "visibility": null,
            "width": null
          }
        },
        "1710a56bf9e24455b5ba034df35a8979": {
          "model_module": "@jupyter-widgets/controls",
          "model_name": "DescriptionStyleModel",
          "model_module_version": "1.5.0",
          "state": {
            "_model_module": "@jupyter-widgets/controls",
            "_model_module_version": "1.5.0",
            "_model_name": "DescriptionStyleModel",
            "_view_count": null,
            "_view_module": "@jupyter-widgets/base",
            "_view_module_version": "1.2.0",
            "_view_name": "StyleView",
            "description_width": ""
          }
        },
        "e713bef285d74995b3776624e7371716": {
          "model_module": "@jupyter-widgets/base",
          "model_name": "LayoutModel",
          "model_module_version": "1.2.0",
          "state": {
            "_model_module": "@jupyter-widgets/base",
            "_model_module_version": "1.2.0",
            "_model_name": "LayoutModel",
            "_view_count": null,
            "_view_module": "@jupyter-widgets/base",
            "_view_module_version": "1.2.0",
            "_view_name": "LayoutView",
            "align_content": null,
            "align_items": null,
            "align_self": null,
            "border": null,
            "bottom": null,
            "display": null,
            "flex": null,
            "flex_flow": null,
            "grid_area": null,
            "grid_auto_columns": null,
            "grid_auto_flow": null,
            "grid_auto_rows": null,
            "grid_column": null,
            "grid_gap": null,
            "grid_row": null,
            "grid_template_areas": null,
            "grid_template_columns": null,
            "grid_template_rows": null,
            "height": null,
            "justify_content": null,
            "justify_items": null,
            "left": null,
            "margin": null,
            "max_height": null,
            "max_width": null,
            "min_height": null,
            "min_width": null,
            "object_fit": null,
            "object_position": null,
            "order": null,
            "overflow": null,
            "overflow_x": null,
            "overflow_y": null,
            "padding": null,
            "right": null,
            "top": null,
            "visibility": null,
            "width": null
          }
        },
        "40c3134040774e7995785ab1429e6210": {
          "model_module": "@jupyter-widgets/controls",
          "model_name": "ProgressStyleModel",
          "model_module_version": "1.5.0",
          "state": {
            "_model_module": "@jupyter-widgets/controls",
            "_model_module_version": "1.5.0",
            "_model_name": "ProgressStyleModel",
            "_view_count": null,
            "_view_module": "@jupyter-widgets/base",
            "_view_module_version": "1.2.0",
            "_view_name": "StyleView",
            "bar_color": null,
            "description_width": ""
          }
        },
        "441ed5a0c9cf471085fbc0b8248db68e": {
          "model_module": "@jupyter-widgets/base",
          "model_name": "LayoutModel",
          "model_module_version": "1.2.0",
          "state": {
            "_model_module": "@jupyter-widgets/base",
            "_model_module_version": "1.2.0",
            "_model_name": "LayoutModel",
            "_view_count": null,
            "_view_module": "@jupyter-widgets/base",
            "_view_module_version": "1.2.0",
            "_view_name": "LayoutView",
            "align_content": null,
            "align_items": null,
            "align_self": null,
            "border": null,
            "bottom": null,
            "display": null,
            "flex": null,
            "flex_flow": null,
            "grid_area": null,
            "grid_auto_columns": null,
            "grid_auto_flow": null,
            "grid_auto_rows": null,
            "grid_column": null,
            "grid_gap": null,
            "grid_row": null,
            "grid_template_areas": null,
            "grid_template_columns": null,
            "grid_template_rows": null,
            "height": null,
            "justify_content": null,
            "justify_items": null,
            "left": null,
            "margin": null,
            "max_height": null,
            "max_width": null,
            "min_height": null,
            "min_width": null,
            "object_fit": null,
            "object_position": null,
            "order": null,
            "overflow": null,
            "overflow_x": null,
            "overflow_y": null,
            "padding": null,
            "right": null,
            "top": null,
            "visibility": null,
            "width": null
          }
        },
        "b99f9108033d4ae480fcfc3c3dcb263f": {
          "model_module": "@jupyter-widgets/controls",
          "model_name": "DescriptionStyleModel",
          "model_module_version": "1.5.0",
          "state": {
            "_model_module": "@jupyter-widgets/controls",
            "_model_module_version": "1.5.0",
            "_model_name": "DescriptionStyleModel",
            "_view_count": null,
            "_view_module": "@jupyter-widgets/base",
            "_view_module_version": "1.2.0",
            "_view_name": "StyleView",
            "description_width": ""
          }
        },
        "7a99acf7d35b471893290dee0e2bb154": {
          "model_module": "@jupyter-widgets/controls",
          "model_name": "HBoxModel",
          "model_module_version": "1.5.0",
          "state": {
            "_dom_classes": [],
            "_model_module": "@jupyter-widgets/controls",
            "_model_module_version": "1.5.0",
            "_model_name": "HBoxModel",
            "_view_count": null,
            "_view_module": "@jupyter-widgets/controls",
            "_view_module_version": "1.5.0",
            "_view_name": "HBoxView",
            "box_style": "",
            "children": [
              "IPY_MODEL_c8735d0070be459d98b7937b1d8cee61",
              "IPY_MODEL_29f80628646b42d1a0d3ab7a6bc00b63",
              "IPY_MODEL_1deb43782f394b5fa281277bf8c974b2"
            ],
            "layout": "IPY_MODEL_84afdc336be7429ebdcddf92f32b742d"
          }
        },
        "c8735d0070be459d98b7937b1d8cee61": {
          "model_module": "@jupyter-widgets/controls",
          "model_name": "HTMLModel",
          "model_module_version": "1.5.0",
          "state": {
            "_dom_classes": [],
            "_model_module": "@jupyter-widgets/controls",
            "_model_module_version": "1.5.0",
            "_model_name": "HTMLModel",
            "_view_count": null,
            "_view_module": "@jupyter-widgets/controls",
            "_view_module_version": "1.5.0",
            "_view_name": "HTMLView",
            "description": "",
            "description_tooltip": null,
            "layout": "IPY_MODEL_d05648ea9c8a48b38abbbd8e4c99f247",
            "placeholder": "​",
            "style": "IPY_MODEL_a57f89a8f93b4d3da92e5926b5ba3ba0",
            "value": "100%"
          }
        },
        "29f80628646b42d1a0d3ab7a6bc00b63": {
          "model_module": "@jupyter-widgets/controls",
          "model_name": "FloatProgressModel",
          "model_module_version": "1.5.0",
          "state": {
            "_dom_classes": [],
            "_model_module": "@jupyter-widgets/controls",
            "_model_module_version": "1.5.0",
            "_model_name": "FloatProgressModel",
            "_view_count": null,
            "_view_module": "@jupyter-widgets/controls",
            "_view_module_version": "1.5.0",
            "_view_name": "ProgressView",
            "bar_style": "success",
            "description": "",
            "description_tooltip": null,
            "layout": "IPY_MODEL_88f9065e1e794f8ea93908bbdab96695",
            "max": 531503671,
            "min": 0,
            "orientation": "horizontal",
            "style": "IPY_MODEL_23caedef56ca4118998f738543e75991",
            "value": 531503671
          }
        },
        "1deb43782f394b5fa281277bf8c974b2": {
          "model_module": "@jupyter-widgets/controls",
          "model_name": "HTMLModel",
          "model_module_version": "1.5.0",
          "state": {
            "_dom_classes": [],
            "_model_module": "@jupyter-widgets/controls",
            "_model_module_version": "1.5.0",
            "_model_name": "HTMLModel",
            "_view_count": null,
            "_view_module": "@jupyter-widgets/controls",
            "_view_module_version": "1.5.0",
            "_view_name": "HTMLView",
            "description": "",
            "description_tooltip": null,
            "layout": "IPY_MODEL_6f60d3f662c645638cfa0d9c6258ea84",
            "placeholder": "​",
            "style": "IPY_MODEL_f8bcad1aef824999ad4bee2f077cae9f",
            "value": " 507M/507M [00:07&lt;00:00, 71.2MB/s]"
          }
        },
        "84afdc336be7429ebdcddf92f32b742d": {
          "model_module": "@jupyter-widgets/base",
          "model_name": "LayoutModel",
          "model_module_version": "1.2.0",
          "state": {
            "_model_module": "@jupyter-widgets/base",
            "_model_module_version": "1.2.0",
            "_model_name": "LayoutModel",
            "_view_count": null,
            "_view_module": "@jupyter-widgets/base",
            "_view_module_version": "1.2.0",
            "_view_name": "LayoutView",
            "align_content": null,
            "align_items": null,
            "align_self": null,
            "border": null,
            "bottom": null,
            "display": null,
            "flex": null,
            "flex_flow": null,
            "grid_area": null,
            "grid_auto_columns": null,
            "grid_auto_flow": null,
            "grid_auto_rows": null,
            "grid_column": null,
            "grid_gap": null,
            "grid_row": null,
            "grid_template_areas": null,
            "grid_template_columns": null,
            "grid_template_rows": null,
            "height": null,
            "justify_content": null,
            "justify_items": null,
            "left": null,
            "margin": null,
            "max_height": null,
            "max_width": null,
            "min_height": null,
            "min_width": null,
            "object_fit": null,
            "object_position": null,
            "order": null,
            "overflow": null,
            "overflow_x": null,
            "overflow_y": null,
            "padding": null,
            "right": null,
            "top": null,
            "visibility": null,
            "width": null
          }
        },
        "d05648ea9c8a48b38abbbd8e4c99f247": {
          "model_module": "@jupyter-widgets/base",
          "model_name": "LayoutModel",
          "model_module_version": "1.2.0",
          "state": {
            "_model_module": "@jupyter-widgets/base",
            "_model_module_version": "1.2.0",
            "_model_name": "LayoutModel",
            "_view_count": null,
            "_view_module": "@jupyter-widgets/base",
            "_view_module_version": "1.2.0",
            "_view_name": "LayoutView",
            "align_content": null,
            "align_items": null,
            "align_self": null,
            "border": null,
            "bottom": null,
            "display": null,
            "flex": null,
            "flex_flow": null,
            "grid_area": null,
            "grid_auto_columns": null,
            "grid_auto_flow": null,
            "grid_auto_rows": null,
            "grid_column": null,
            "grid_gap": null,
            "grid_row": null,
            "grid_template_areas": null,
            "grid_template_columns": null,
            "grid_template_rows": null,
            "height": null,
            "justify_content": null,
            "justify_items": null,
            "left": null,
            "margin": null,
            "max_height": null,
            "max_width": null,
            "min_height": null,
            "min_width": null,
            "object_fit": null,
            "object_position": null,
            "order": null,
            "overflow": null,
            "overflow_x": null,
            "overflow_y": null,
            "padding": null,
            "right": null,
            "top": null,
            "visibility": null,
            "width": null
          }
        },
        "a57f89a8f93b4d3da92e5926b5ba3ba0": {
          "model_module": "@jupyter-widgets/controls",
          "model_name": "DescriptionStyleModel",
          "model_module_version": "1.5.0",
          "state": {
            "_model_module": "@jupyter-widgets/controls",
            "_model_module_version": "1.5.0",
            "_model_name": "DescriptionStyleModel",
            "_view_count": null,
            "_view_module": "@jupyter-widgets/base",
            "_view_module_version": "1.2.0",
            "_view_name": "StyleView",
            "description_width": ""
          }
        },
        "88f9065e1e794f8ea93908bbdab96695": {
          "model_module": "@jupyter-widgets/base",
          "model_name": "LayoutModel",
          "model_module_version": "1.2.0",
          "state": {
            "_model_module": "@jupyter-widgets/base",
            "_model_module_version": "1.2.0",
            "_model_name": "LayoutModel",
            "_view_count": null,
            "_view_module": "@jupyter-widgets/base",
            "_view_module_version": "1.2.0",
            "_view_name": "LayoutView",
            "align_content": null,
            "align_items": null,
            "align_self": null,
            "border": null,
            "bottom": null,
            "display": null,
            "flex": null,
            "flex_flow": null,
            "grid_area": null,
            "grid_auto_columns": null,
            "grid_auto_flow": null,
            "grid_auto_rows": null,
            "grid_column": null,
            "grid_gap": null,
            "grid_row": null,
            "grid_template_areas": null,
            "grid_template_columns": null,
            "grid_template_rows": null,
            "height": null,
            "justify_content": null,
            "justify_items": null,
            "left": null,
            "margin": null,
            "max_height": null,
            "max_width": null,
            "min_height": null,
            "min_width": null,
            "object_fit": null,
            "object_position": null,
            "order": null,
            "overflow": null,
            "overflow_x": null,
            "overflow_y": null,
            "padding": null,
            "right": null,
            "top": null,
            "visibility": null,
            "width": null
          }
        },
        "23caedef56ca4118998f738543e75991": {
          "model_module": "@jupyter-widgets/controls",
          "model_name": "ProgressStyleModel",
          "model_module_version": "1.5.0",
          "state": {
            "_model_module": "@jupyter-widgets/controls",
            "_model_module_version": "1.5.0",
            "_model_name": "ProgressStyleModel",
            "_view_count": null,
            "_view_module": "@jupyter-widgets/base",
            "_view_module_version": "1.2.0",
            "_view_name": "StyleView",
            "bar_color": null,
            "description_width": ""
          }
        },
        "6f60d3f662c645638cfa0d9c6258ea84": {
          "model_module": "@jupyter-widgets/base",
          "model_name": "LayoutModel",
          "model_module_version": "1.2.0",
          "state": {
            "_model_module": "@jupyter-widgets/base",
            "_model_module_version": "1.2.0",
            "_model_name": "LayoutModel",
            "_view_count": null,
            "_view_module": "@jupyter-widgets/base",
            "_view_module_version": "1.2.0",
            "_view_name": "LayoutView",
            "align_content": null,
            "align_items": null,
            "align_self": null,
            "border": null,
            "bottom": null,
            "display": null,
            "flex": null,
            "flex_flow": null,
            "grid_area": null,
            "grid_auto_columns": null,
            "grid_auto_flow": null,
            "grid_auto_rows": null,
            "grid_column": null,
            "grid_gap": null,
            "grid_row": null,
            "grid_template_areas": null,
            "grid_template_columns": null,
            "grid_template_rows": null,
            "height": null,
            "justify_content": null,
            "justify_items": null,
            "left": null,
            "margin": null,
            "max_height": null,
            "max_width": null,
            "min_height": null,
            "min_width": null,
            "object_fit": null,
            "object_position": null,
            "order": null,
            "overflow": null,
            "overflow_x": null,
            "overflow_y": null,
            "padding": null,
            "right": null,
            "top": null,
            "visibility": null,
            "width": null
          }
        },
        "f8bcad1aef824999ad4bee2f077cae9f": {
          "model_module": "@jupyter-widgets/controls",
          "model_name": "DescriptionStyleModel",
          "model_module_version": "1.5.0",
          "state": {
            "_model_module": "@jupyter-widgets/controls",
            "_model_module_version": "1.5.0",
            "_model_name": "DescriptionStyleModel",
            "_view_count": null,
            "_view_module": "@jupyter-widgets/base",
            "_view_module_version": "1.2.0",
            "_view_name": "StyleView",
            "description_width": ""
          }
        },
        "6a1172fda62d47f19a2f14295cf356f0": {
          "model_module": "@jupyter-widgets/controls",
          "model_name": "HBoxModel",
          "model_module_version": "1.5.0",
          "state": {
            "_dom_classes": [],
            "_model_module": "@jupyter-widgets/controls",
            "_model_module_version": "1.5.0",
            "_model_name": "HBoxModel",
            "_view_count": null,
            "_view_module": "@jupyter-widgets/controls",
            "_view_module_version": "1.5.0",
            "_view_name": "HBoxView",
            "box_style": "",
            "children": [
              "IPY_MODEL_c3cf08bf15f7403a9d5ff9f1827115be",
              "IPY_MODEL_32c356de72d44e7e88f9ce1074227c44",
              "IPY_MODEL_d18fcf970986416aacd3769b7a9adc70"
            ],
            "layout": "IPY_MODEL_1484b74c07f84ffd816aa791299c733e"
          }
        },
        "c3cf08bf15f7403a9d5ff9f1827115be": {
          "model_module": "@jupyter-widgets/controls",
          "model_name": "HTMLModel",
          "model_module_version": "1.5.0",
          "state": {
            "_dom_classes": [],
            "_model_module": "@jupyter-widgets/controls",
            "_model_module_version": "1.5.0",
            "_model_name": "HTMLModel",
            "_view_count": null,
            "_view_module": "@jupyter-widgets/controls",
            "_view_module_version": "1.5.0",
            "_view_name": "HTMLView",
            "description": "",
            "description_tooltip": null,
            "layout": "IPY_MODEL_85883a95a6ee42fca65aaca7c677bb9e",
            "placeholder": "​",
            "style": "IPY_MODEL_0fe327b536c14d369891fe7d26a2db2f",
            "value": "100%"
          }
        },
        "32c356de72d44e7e88f9ce1074227c44": {
          "model_module": "@jupyter-widgets/controls",
          "model_name": "FloatProgressModel",
          "model_module_version": "1.5.0",
          "state": {
            "_dom_classes": [],
            "_model_module": "@jupyter-widgets/controls",
            "_model_module_version": "1.5.0",
            "_model_name": "FloatProgressModel",
            "_view_count": null,
            "_view_module": "@jupyter-widgets/controls",
            "_view_module_version": "1.5.0",
            "_view_name": "ProgressView",
            "bar_style": "success",
            "description": "",
            "description_tooltip": null,
            "layout": "IPY_MODEL_de5c5397adda488fabba62031cf2522c",
            "max": 46830571,
            "min": 0,
            "orientation": "horizontal",
            "style": "IPY_MODEL_18d50736cb8d4e55b0c8e6b765c2c2a0",
            "value": 46830571
          }
        },
        "d18fcf970986416aacd3769b7a9adc70": {
          "model_module": "@jupyter-widgets/controls",
          "model_name": "HTMLModel",
          "model_module_version": "1.5.0",
          "state": {
            "_dom_classes": [],
            "_model_module": "@jupyter-widgets/controls",
            "_model_module_version": "1.5.0",
            "_model_name": "HTMLModel",
            "_view_count": null,
            "_view_module": "@jupyter-widgets/controls",
            "_view_module_version": "1.5.0",
            "_view_name": "HTMLView",
            "description": "",
            "description_tooltip": null,
            "layout": "IPY_MODEL_368d160daf9840278d0db8f47b271df3",
            "placeholder": "​",
            "style": "IPY_MODEL_d5cbf24bf2f34a8e8369327ffa70487e",
            "value": " 44.7M/44.7M [00:00&lt;00:00, 90.4MB/s]"
          }
        },
        "1484b74c07f84ffd816aa791299c733e": {
          "model_module": "@jupyter-widgets/base",
          "model_name": "LayoutModel",
          "model_module_version": "1.2.0",
          "state": {
            "_model_module": "@jupyter-widgets/base",
            "_model_module_version": "1.2.0",
            "_model_name": "LayoutModel",
            "_view_count": null,
            "_view_module": "@jupyter-widgets/base",
            "_view_module_version": "1.2.0",
            "_view_name": "LayoutView",
            "align_content": null,
            "align_items": null,
            "align_self": null,
            "border": null,
            "bottom": null,
            "display": null,
            "flex": null,
            "flex_flow": null,
            "grid_area": null,
            "grid_auto_columns": null,
            "grid_auto_flow": null,
            "grid_auto_rows": null,
            "grid_column": null,
            "grid_gap": null,
            "grid_row": null,
            "grid_template_areas": null,
            "grid_template_columns": null,
            "grid_template_rows": null,
            "height": null,
            "justify_content": null,
            "justify_items": null,
            "left": null,
            "margin": null,
            "max_height": null,
            "max_width": null,
            "min_height": null,
            "min_width": null,
            "object_fit": null,
            "object_position": null,
            "order": null,
            "overflow": null,
            "overflow_x": null,
            "overflow_y": null,
            "padding": null,
            "right": null,
            "top": null,
            "visibility": null,
            "width": null
          }
        },
        "85883a95a6ee42fca65aaca7c677bb9e": {
          "model_module": "@jupyter-widgets/base",
          "model_name": "LayoutModel",
          "model_module_version": "1.2.0",
          "state": {
            "_model_module": "@jupyter-widgets/base",
            "_model_module_version": "1.2.0",
            "_model_name": "LayoutModel",
            "_view_count": null,
            "_view_module": "@jupyter-widgets/base",
            "_view_module_version": "1.2.0",
            "_view_name": "LayoutView",
            "align_content": null,
            "align_items": null,
            "align_self": null,
            "border": null,
            "bottom": null,
            "display": null,
            "flex": null,
            "flex_flow": null,
            "grid_area": null,
            "grid_auto_columns": null,
            "grid_auto_flow": null,
            "grid_auto_rows": null,
            "grid_column": null,
            "grid_gap": null,
            "grid_row": null,
            "grid_template_areas": null,
            "grid_template_columns": null,
            "grid_template_rows": null,
            "height": null,
            "justify_content": null,
            "justify_items": null,
            "left": null,
            "margin": null,
            "max_height": null,
            "max_width": null,
            "min_height": null,
            "min_width": null,
            "object_fit": null,
            "object_position": null,
            "order": null,
            "overflow": null,
            "overflow_x": null,
            "overflow_y": null,
            "padding": null,
            "right": null,
            "top": null,
            "visibility": null,
            "width": null
          }
        },
        "0fe327b536c14d369891fe7d26a2db2f": {
          "model_module": "@jupyter-widgets/controls",
          "model_name": "DescriptionStyleModel",
          "model_module_version": "1.5.0",
          "state": {
            "_model_module": "@jupyter-widgets/controls",
            "_model_module_version": "1.5.0",
            "_model_name": "DescriptionStyleModel",
            "_view_count": null,
            "_view_module": "@jupyter-widgets/base",
            "_view_module_version": "1.2.0",
            "_view_name": "StyleView",
            "description_width": ""
          }
        },
        "de5c5397adda488fabba62031cf2522c": {
          "model_module": "@jupyter-widgets/base",
          "model_name": "LayoutModel",
          "model_module_version": "1.2.0",
          "state": {
            "_model_module": "@jupyter-widgets/base",
            "_model_module_version": "1.2.0",
            "_model_name": "LayoutModel",
            "_view_count": null,
            "_view_module": "@jupyter-widgets/base",
            "_view_module_version": "1.2.0",
            "_view_name": "LayoutView",
            "align_content": null,
            "align_items": null,
            "align_self": null,
            "border": null,
            "bottom": null,
            "display": null,
            "flex": null,
            "flex_flow": null,
            "grid_area": null,
            "grid_auto_columns": null,
            "grid_auto_flow": null,
            "grid_auto_rows": null,
            "grid_column": null,
            "grid_gap": null,
            "grid_row": null,
            "grid_template_areas": null,
            "grid_template_columns": null,
            "grid_template_rows": null,
            "height": null,
            "justify_content": null,
            "justify_items": null,
            "left": null,
            "margin": null,
            "max_height": null,
            "max_width": null,
            "min_height": null,
            "min_width": null,
            "object_fit": null,
            "object_position": null,
            "order": null,
            "overflow": null,
            "overflow_x": null,
            "overflow_y": null,
            "padding": null,
            "right": null,
            "top": null,
            "visibility": null,
            "width": null
          }
        },
        "18d50736cb8d4e55b0c8e6b765c2c2a0": {
          "model_module": "@jupyter-widgets/controls",
          "model_name": "ProgressStyleModel",
          "model_module_version": "1.5.0",
          "state": {
            "_model_module": "@jupyter-widgets/controls",
            "_model_module_version": "1.5.0",
            "_model_name": "ProgressStyleModel",
            "_view_count": null,
            "_view_module": "@jupyter-widgets/base",
            "_view_module_version": "1.2.0",
            "_view_name": "StyleView",
            "bar_color": null,
            "description_width": ""
          }
        },
        "368d160daf9840278d0db8f47b271df3": {
          "model_module": "@jupyter-widgets/base",
          "model_name": "LayoutModel",
          "model_module_version": "1.2.0",
          "state": {
            "_model_module": "@jupyter-widgets/base",
            "_model_module_version": "1.2.0",
            "_model_name": "LayoutModel",
            "_view_count": null,
            "_view_module": "@jupyter-widgets/base",
            "_view_module_version": "1.2.0",
            "_view_name": "LayoutView",
            "align_content": null,
            "align_items": null,
            "align_self": null,
            "border": null,
            "bottom": null,
            "display": null,
            "flex": null,
            "flex_flow": null,
            "grid_area": null,
            "grid_auto_columns": null,
            "grid_auto_flow": null,
            "grid_auto_rows": null,
            "grid_column": null,
            "grid_gap": null,
            "grid_row": null,
            "grid_template_areas": null,
            "grid_template_columns": null,
            "grid_template_rows": null,
            "height": null,
            "justify_content": null,
            "justify_items": null,
            "left": null,
            "margin": null,
            "max_height": null,
            "max_width": null,
            "min_height": null,
            "min_width": null,
            "object_fit": null,
            "object_position": null,
            "order": null,
            "overflow": null,
            "overflow_x": null,
            "overflow_y": null,
            "padding": null,
            "right": null,
            "top": null,
            "visibility": null,
            "width": null
          }
        },
        "d5cbf24bf2f34a8e8369327ffa70487e": {
          "model_module": "@jupyter-widgets/controls",
          "model_name": "DescriptionStyleModel",
          "model_module_version": "1.5.0",
          "state": {
            "_model_module": "@jupyter-widgets/controls",
            "_model_module_version": "1.5.0",
            "_model_name": "DescriptionStyleModel",
            "_view_count": null,
            "_view_module": "@jupyter-widgets/base",
            "_view_module_version": "1.2.0",
            "_view_name": "StyleView",
            "description_width": ""
          }
        },
        "f2bc009a042a423783cc17e6a3ad80a1": {
          "model_module": "@jupyter-widgets/controls",
          "model_name": "HBoxModel",
          "model_module_version": "1.5.0",
          "state": {
            "_dom_classes": [],
            "_model_module": "@jupyter-widgets/controls",
            "_model_module_version": "1.5.0",
            "_model_name": "HBoxModel",
            "_view_count": null,
            "_view_module": "@jupyter-widgets/controls",
            "_view_module_version": "1.5.0",
            "_view_name": "HBoxView",
            "box_style": "",
            "children": [
              "IPY_MODEL_e34a1b0b471d4c2f90349ffa7951753a",
              "IPY_MODEL_f486871060fb4a87ae680bac6b056ddd",
              "IPY_MODEL_a0fee32a63094a5dab132495e7a6f09a"
            ],
            "layout": "IPY_MODEL_76a1873f6bb44f5db16625b793a21ad0"
          }
        },
        "e34a1b0b471d4c2f90349ffa7951753a": {
          "model_module": "@jupyter-widgets/controls",
          "model_name": "HTMLModel",
          "model_module_version": "1.5.0",
          "state": {
            "_dom_classes": [],
            "_model_module": "@jupyter-widgets/controls",
            "_model_module_version": "1.5.0",
            "_model_name": "HTMLModel",
            "_view_count": null,
            "_view_module": "@jupyter-widgets/controls",
            "_view_module_version": "1.5.0",
            "_view_name": "HTMLView",
            "description": "",
            "description_tooltip": null,
            "layout": "IPY_MODEL_ef3f8089b99d419987cd568959313453",
            "placeholder": "​",
            "style": "IPY_MODEL_a5794c5956114ed192842c690646df15",
            "value": "100%"
          }
        },
        "f486871060fb4a87ae680bac6b056ddd": {
          "model_module": "@jupyter-widgets/controls",
          "model_name": "FloatProgressModel",
          "model_module_version": "1.5.0",
          "state": {
            "_dom_classes": [],
            "_model_module": "@jupyter-widgets/controls",
            "_model_module_version": "1.5.0",
            "_model_name": "FloatProgressModel",
            "_view_count": null,
            "_view_module": "@jupyter-widgets/controls",
            "_view_module_version": "1.5.0",
            "_view_name": "ProgressView",
            "bar_style": "success",
            "description": "",
            "description_tooltip": null,
            "layout": "IPY_MODEL_55810ad8e7984d11b79c555d44945753",
            "max": 87319819,
            "min": 0,
            "orientation": "horizontal",
            "style": "IPY_MODEL_21ff1f1c442a404da322689953ce9b52",
            "value": 87319819
          }
        },
        "a0fee32a63094a5dab132495e7a6f09a": {
          "model_module": "@jupyter-widgets/controls",
          "model_name": "HTMLModel",
          "model_module_version": "1.5.0",
          "state": {
            "_dom_classes": [],
            "_model_module": "@jupyter-widgets/controls",
            "_model_module_version": "1.5.0",
            "_model_name": "HTMLModel",
            "_view_count": null,
            "_view_module": "@jupyter-widgets/controls",
            "_view_module_version": "1.5.0",
            "_view_name": "HTMLView",
            "description": "",
            "description_tooltip": null,
            "layout": "IPY_MODEL_2722a3094ac64021afae901727d3c967",
            "placeholder": "​",
            "style": "IPY_MODEL_a7d238858bc24b2ca14da19ec7e691df",
            "value": " 83.3M/83.3M [00:01&lt;00:00, 79.2MB/s]"
          }
        },
        "76a1873f6bb44f5db16625b793a21ad0": {
          "model_module": "@jupyter-widgets/base",
          "model_name": "LayoutModel",
          "model_module_version": "1.2.0",
          "state": {
            "_model_module": "@jupyter-widgets/base",
            "_model_module_version": "1.2.0",
            "_model_name": "LayoutModel",
            "_view_count": null,
            "_view_module": "@jupyter-widgets/base",
            "_view_module_version": "1.2.0",
            "_view_name": "LayoutView",
            "align_content": null,
            "align_items": null,
            "align_self": null,
            "border": null,
            "bottom": null,
            "display": null,
            "flex": null,
            "flex_flow": null,
            "grid_area": null,
            "grid_auto_columns": null,
            "grid_auto_flow": null,
            "grid_auto_rows": null,
            "grid_column": null,
            "grid_gap": null,
            "grid_row": null,
            "grid_template_areas": null,
            "grid_template_columns": null,
            "grid_template_rows": null,
            "height": null,
            "justify_content": null,
            "justify_items": null,
            "left": null,
            "margin": null,
            "max_height": null,
            "max_width": null,
            "min_height": null,
            "min_width": null,
            "object_fit": null,
            "object_position": null,
            "order": null,
            "overflow": null,
            "overflow_x": null,
            "overflow_y": null,
            "padding": null,
            "right": null,
            "top": null,
            "visibility": null,
            "width": null
          }
        },
        "ef3f8089b99d419987cd568959313453": {
          "model_module": "@jupyter-widgets/base",
          "model_name": "LayoutModel",
          "model_module_version": "1.2.0",
          "state": {
            "_model_module": "@jupyter-widgets/base",
            "_model_module_version": "1.2.0",
            "_model_name": "LayoutModel",
            "_view_count": null,
            "_view_module": "@jupyter-widgets/base",
            "_view_module_version": "1.2.0",
            "_view_name": "LayoutView",
            "align_content": null,
            "align_items": null,
            "align_self": null,
            "border": null,
            "bottom": null,
            "display": null,
            "flex": null,
            "flex_flow": null,
            "grid_area": null,
            "grid_auto_columns": null,
            "grid_auto_flow": null,
            "grid_auto_rows": null,
            "grid_column": null,
            "grid_gap": null,
            "grid_row": null,
            "grid_template_areas": null,
            "grid_template_columns": null,
            "grid_template_rows": null,
            "height": null,
            "justify_content": null,
            "justify_items": null,
            "left": null,
            "margin": null,
            "max_height": null,
            "max_width": null,
            "min_height": null,
            "min_width": null,
            "object_fit": null,
            "object_position": null,
            "order": null,
            "overflow": null,
            "overflow_x": null,
            "overflow_y": null,
            "padding": null,
            "right": null,
            "top": null,
            "visibility": null,
            "width": null
          }
        },
        "a5794c5956114ed192842c690646df15": {
          "model_module": "@jupyter-widgets/controls",
          "model_name": "DescriptionStyleModel",
          "model_module_version": "1.5.0",
          "state": {
            "_model_module": "@jupyter-widgets/controls",
            "_model_module_version": "1.5.0",
            "_model_name": "DescriptionStyleModel",
            "_view_count": null,
            "_view_module": "@jupyter-widgets/base",
            "_view_module_version": "1.2.0",
            "_view_name": "StyleView",
            "description_width": ""
          }
        },
        "55810ad8e7984d11b79c555d44945753": {
          "model_module": "@jupyter-widgets/base",
          "model_name": "LayoutModel",
          "model_module_version": "1.2.0",
          "state": {
            "_model_module": "@jupyter-widgets/base",
            "_model_module_version": "1.2.0",
            "_model_name": "LayoutModel",
            "_view_count": null,
            "_view_module": "@jupyter-widgets/base",
            "_view_module_version": "1.2.0",
            "_view_name": "LayoutView",
            "align_content": null,
            "align_items": null,
            "align_self": null,
            "border": null,
            "bottom": null,
            "display": null,
            "flex": null,
            "flex_flow": null,
            "grid_area": null,
            "grid_auto_columns": null,
            "grid_auto_flow": null,
            "grid_auto_rows": null,
            "grid_column": null,
            "grid_gap": null,
            "grid_row": null,
            "grid_template_areas": null,
            "grid_template_columns": null,
            "grid_template_rows": null,
            "height": null,
            "justify_content": null,
            "justify_items": null,
            "left": null,
            "margin": null,
            "max_height": null,
            "max_width": null,
            "min_height": null,
            "min_width": null,
            "object_fit": null,
            "object_position": null,
            "order": null,
            "overflow": null,
            "overflow_x": null,
            "overflow_y": null,
            "padding": null,
            "right": null,
            "top": null,
            "visibility": null,
            "width": null
          }
        },
        "21ff1f1c442a404da322689953ce9b52": {
          "model_module": "@jupyter-widgets/controls",
          "model_name": "ProgressStyleModel",
          "model_module_version": "1.5.0",
          "state": {
            "_model_module": "@jupyter-widgets/controls",
            "_model_module_version": "1.5.0",
            "_model_name": "ProgressStyleModel",
            "_view_count": null,
            "_view_module": "@jupyter-widgets/base",
            "_view_module_version": "1.2.0",
            "_view_name": "StyleView",
            "bar_color": null,
            "description_width": ""
          }
        },
        "2722a3094ac64021afae901727d3c967": {
          "model_module": "@jupyter-widgets/base",
          "model_name": "LayoutModel",
          "model_module_version": "1.2.0",
          "state": {
            "_model_module": "@jupyter-widgets/base",
            "_model_module_version": "1.2.0",
            "_model_name": "LayoutModel",
            "_view_count": null,
            "_view_module": "@jupyter-widgets/base",
            "_view_module_version": "1.2.0",
            "_view_name": "LayoutView",
            "align_content": null,
            "align_items": null,
            "align_self": null,
            "border": null,
            "bottom": null,
            "display": null,
            "flex": null,
            "flex_flow": null,
            "grid_area": null,
            "grid_auto_columns": null,
            "grid_auto_flow": null,
            "grid_auto_rows": null,
            "grid_column": null,
            "grid_gap": null,
            "grid_row": null,
            "grid_template_areas": null,
            "grid_template_columns": null,
            "grid_template_rows": null,
            "height": null,
            "justify_content": null,
            "justify_items": null,
            "left": null,
            "margin": null,
            "max_height": null,
            "max_width": null,
            "min_height": null,
            "min_width": null,
            "object_fit": null,
            "object_position": null,
            "order": null,
            "overflow": null,
            "overflow_x": null,
            "overflow_y": null,
            "padding": null,
            "right": null,
            "top": null,
            "visibility": null,
            "width": null
          }
        },
        "a7d238858bc24b2ca14da19ec7e691df": {
          "model_module": "@jupyter-widgets/controls",
          "model_name": "DescriptionStyleModel",
          "model_module_version": "1.5.0",
          "state": {
            "_model_module": "@jupyter-widgets/controls",
            "_model_module_version": "1.5.0",
            "_model_name": "DescriptionStyleModel",
            "_view_count": null,
            "_view_module": "@jupyter-widgets/base",
            "_view_module_version": "1.2.0",
            "_view_name": "StyleView",
            "description_width": ""
          }
        },
        "bc5e41b2db3848c3939a4890e0d1c55d": {
          "model_module": "@jupyter-widgets/controls",
          "model_name": "HBoxModel",
          "model_module_version": "1.5.0",
          "state": {
            "_dom_classes": [],
            "_model_module": "@jupyter-widgets/controls",
            "_model_module_version": "1.5.0",
            "_model_name": "HBoxModel",
            "_view_count": null,
            "_view_module": "@jupyter-widgets/controls",
            "_view_module_version": "1.5.0",
            "_view_name": "HBoxView",
            "box_style": "",
            "children": [
              "IPY_MODEL_09f2b7a2ce1d4f7994c72b25dc745d41",
              "IPY_MODEL_2441e1c9f2a04ee7afdbed3cd244f13c",
              "IPY_MODEL_46f3d522a9704414989fa93e6b8751f5"
            ],
            "layout": "IPY_MODEL_c3a68a7c1058447bbbae875456a8bddd"
          }
        },
        "09f2b7a2ce1d4f7994c72b25dc745d41": {
          "model_module": "@jupyter-widgets/controls",
          "model_name": "HTMLModel",
          "model_module_version": "1.5.0",
          "state": {
            "_dom_classes": [],
            "_model_module": "@jupyter-widgets/controls",
            "_model_module_version": "1.5.0",
            "_model_name": "HTMLModel",
            "_view_count": null,
            "_view_module": "@jupyter-widgets/controls",
            "_view_module_version": "1.5.0",
            "_view_name": "HTMLView",
            "description": "",
            "description_tooltip": null,
            "layout": "IPY_MODEL_1b2db11e4b3e40a490bb5d661588ee2a",
            "placeholder": "​",
            "style": "IPY_MODEL_805eabaefa324eb8bf175f5b03c49e7e",
            "value": "100%"
          }
        },
        "2441e1c9f2a04ee7afdbed3cd244f13c": {
          "model_module": "@jupyter-widgets/controls",
          "model_name": "FloatProgressModel",
          "model_module_version": "1.5.0",
          "state": {
            "_dom_classes": [],
            "_model_module": "@jupyter-widgets/controls",
            "_model_module_version": "1.5.0",
            "_model_name": "FloatProgressModel",
            "_view_count": null,
            "_view_module": "@jupyter-widgets/controls",
            "_view_module_version": "1.5.0",
            "_view_name": "ProgressView",
            "bar_style": "success",
            "description": "",
            "description_tooltip": null,
            "layout": "IPY_MODEL_79edfaa60ef24e7c9bc5e715dd06bd61",
            "max": 32342954,
            "min": 0,
            "orientation": "horizontal",
            "style": "IPY_MODEL_b70c79f2d6504b258e071e0c5b75f64b",
            "value": 32342954
          }
        },
        "46f3d522a9704414989fa93e6b8751f5": {
          "model_module": "@jupyter-widgets/controls",
          "model_name": "HTMLModel",
          "model_module_version": "1.5.0",
          "state": {
            "_dom_classes": [],
            "_model_module": "@jupyter-widgets/controls",
            "_model_module_version": "1.5.0",
            "_model_name": "HTMLModel",
            "_view_count": null,
            "_view_module": "@jupyter-widgets/controls",
            "_view_module_version": "1.5.0",
            "_view_name": "HTMLView",
            "description": "",
            "description_tooltip": null,
            "layout": "IPY_MODEL_9ec0e18333714b078d87a211d89415cc",
            "placeholder": "​",
            "style": "IPY_MODEL_8c9f6abc01db4fa2b569ed185486027a",
            "value": " 30.8M/30.8M [00:00&lt;00:00, 65.2MB/s]"
          }
        },
        "c3a68a7c1058447bbbae875456a8bddd": {
          "model_module": "@jupyter-widgets/base",
          "model_name": "LayoutModel",
          "model_module_version": "1.2.0",
          "state": {
            "_model_module": "@jupyter-widgets/base",
            "_model_module_version": "1.2.0",
            "_model_name": "LayoutModel",
            "_view_count": null,
            "_view_module": "@jupyter-widgets/base",
            "_view_module_version": "1.2.0",
            "_view_name": "LayoutView",
            "align_content": null,
            "align_items": null,
            "align_self": null,
            "border": null,
            "bottom": null,
            "display": null,
            "flex": null,
            "flex_flow": null,
            "grid_area": null,
            "grid_auto_columns": null,
            "grid_auto_flow": null,
            "grid_auto_rows": null,
            "grid_column": null,
            "grid_gap": null,
            "grid_row": null,
            "grid_template_areas": null,
            "grid_template_columns": null,
            "grid_template_rows": null,
            "height": null,
            "justify_content": null,
            "justify_items": null,
            "left": null,
            "margin": null,
            "max_height": null,
            "max_width": null,
            "min_height": null,
            "min_width": null,
            "object_fit": null,
            "object_position": null,
            "order": null,
            "overflow": null,
            "overflow_x": null,
            "overflow_y": null,
            "padding": null,
            "right": null,
            "top": null,
            "visibility": null,
            "width": null
          }
        },
        "1b2db11e4b3e40a490bb5d661588ee2a": {
          "model_module": "@jupyter-widgets/base",
          "model_name": "LayoutModel",
          "model_module_version": "1.2.0",
          "state": {
            "_model_module": "@jupyter-widgets/base",
            "_model_module_version": "1.2.0",
            "_model_name": "LayoutModel",
            "_view_count": null,
            "_view_module": "@jupyter-widgets/base",
            "_view_module_version": "1.2.0",
            "_view_name": "LayoutView",
            "align_content": null,
            "align_items": null,
            "align_self": null,
            "border": null,
            "bottom": null,
            "display": null,
            "flex": null,
            "flex_flow": null,
            "grid_area": null,
            "grid_auto_columns": null,
            "grid_auto_flow": null,
            "grid_auto_rows": null,
            "grid_column": null,
            "grid_gap": null,
            "grid_row": null,
            "grid_template_areas": null,
            "grid_template_columns": null,
            "grid_template_rows": null,
            "height": null,
            "justify_content": null,
            "justify_items": null,
            "left": null,
            "margin": null,
            "max_height": null,
            "max_width": null,
            "min_height": null,
            "min_width": null,
            "object_fit": null,
            "object_position": null,
            "order": null,
            "overflow": null,
            "overflow_x": null,
            "overflow_y": null,
            "padding": null,
            "right": null,
            "top": null,
            "visibility": null,
            "width": null
          }
        },
        "805eabaefa324eb8bf175f5b03c49e7e": {
          "model_module": "@jupyter-widgets/controls",
          "model_name": "DescriptionStyleModel",
          "model_module_version": "1.5.0",
          "state": {
            "_model_module": "@jupyter-widgets/controls",
            "_model_module_version": "1.5.0",
            "_model_name": "DescriptionStyleModel",
            "_view_count": null,
            "_view_module": "@jupyter-widgets/base",
            "_view_module_version": "1.2.0",
            "_view_name": "StyleView",
            "description_width": ""
          }
        },
        "79edfaa60ef24e7c9bc5e715dd06bd61": {
          "model_module": "@jupyter-widgets/base",
          "model_name": "LayoutModel",
          "model_module_version": "1.2.0",
          "state": {
            "_model_module": "@jupyter-widgets/base",
            "_model_module_version": "1.2.0",
            "_model_name": "LayoutModel",
            "_view_count": null,
            "_view_module": "@jupyter-widgets/base",
            "_view_module_version": "1.2.0",
            "_view_name": "LayoutView",
            "align_content": null,
            "align_items": null,
            "align_self": null,
            "border": null,
            "bottom": null,
            "display": null,
            "flex": null,
            "flex_flow": null,
            "grid_area": null,
            "grid_auto_columns": null,
            "grid_auto_flow": null,
            "grid_auto_rows": null,
            "grid_column": null,
            "grid_gap": null,
            "grid_row": null,
            "grid_template_areas": null,
            "grid_template_columns": null,
            "grid_template_rows": null,
            "height": null,
            "justify_content": null,
            "justify_items": null,
            "left": null,
            "margin": null,
            "max_height": null,
            "max_width": null,
            "min_height": null,
            "min_width": null,
            "object_fit": null,
            "object_position": null,
            "order": null,
            "overflow": null,
            "overflow_x": null,
            "overflow_y": null,
            "padding": null,
            "right": null,
            "top": null,
            "visibility": null,
            "width": null
          }
        },
        "b70c79f2d6504b258e071e0c5b75f64b": {
          "model_module": "@jupyter-widgets/controls",
          "model_name": "ProgressStyleModel",
          "model_module_version": "1.5.0",
          "state": {
            "_model_module": "@jupyter-widgets/controls",
            "_model_module_version": "1.5.0",
            "_model_name": "ProgressStyleModel",
            "_view_count": null,
            "_view_module": "@jupyter-widgets/base",
            "_view_module_version": "1.2.0",
            "_view_name": "StyleView",
            "bar_color": null,
            "description_width": ""
          }
        },
        "9ec0e18333714b078d87a211d89415cc": {
          "model_module": "@jupyter-widgets/base",
          "model_name": "LayoutModel",
          "model_module_version": "1.2.0",
          "state": {
            "_model_module": "@jupyter-widgets/base",
            "_model_module_version": "1.2.0",
            "_model_name": "LayoutModel",
            "_view_count": null,
            "_view_module": "@jupyter-widgets/base",
            "_view_module_version": "1.2.0",
            "_view_name": "LayoutView",
            "align_content": null,
            "align_items": null,
            "align_self": null,
            "border": null,
            "bottom": null,
            "display": null,
            "flex": null,
            "flex_flow": null,
            "grid_area": null,
            "grid_auto_columns": null,
            "grid_auto_flow": null,
            "grid_auto_rows": null,
            "grid_column": null,
            "grid_gap": null,
            "grid_row": null,
            "grid_template_areas": null,
            "grid_template_columns": null,
            "grid_template_rows": null,
            "height": null,
            "justify_content": null,
            "justify_items": null,
            "left": null,
            "margin": null,
            "max_height": null,
            "max_width": null,
            "min_height": null,
            "min_width": null,
            "object_fit": null,
            "object_position": null,
            "order": null,
            "overflow": null,
            "overflow_x": null,
            "overflow_y": null,
            "padding": null,
            "right": null,
            "top": null,
            "visibility": null,
            "width": null
          }
        },
        "8c9f6abc01db4fa2b569ed185486027a": {
          "model_module": "@jupyter-widgets/controls",
          "model_name": "DescriptionStyleModel",
          "model_module_version": "1.5.0",
          "state": {
            "_model_module": "@jupyter-widgets/controls",
            "_model_module_version": "1.5.0",
            "_model_name": "DescriptionStyleModel",
            "_view_count": null,
            "_view_module": "@jupyter-widgets/base",
            "_view_module_version": "1.2.0",
            "_view_name": "StyleView",
            "description_width": ""
          }
        },
        "8fd84309d46a40a3b441210d44ef5dd2": {
          "model_module": "@jupyter-widgets/controls",
          "model_name": "HBoxModel",
          "model_module_version": "1.5.0",
          "state": {
            "_dom_classes": [],
            "_model_module": "@jupyter-widgets/controls",
            "_model_module_version": "1.5.0",
            "_model_name": "HBoxModel",
            "_view_count": null,
            "_view_module": "@jupyter-widgets/controls",
            "_view_module_version": "1.5.0",
            "_view_name": "HBoxView",
            "box_style": "",
            "children": [
              "IPY_MODEL_bc87eca8c2ba4fbeab6cb2e935abfc1f",
              "IPY_MODEL_3db8520b02c84098824cb6b99af85f23",
              "IPY_MODEL_398404fe74584c4e957f11d4591a0765"
            ],
            "layout": "IPY_MODEL_073f6dc18ac44581bcb518ff8637510f"
          }
        },
        "bc87eca8c2ba4fbeab6cb2e935abfc1f": {
          "model_module": "@jupyter-widgets/controls",
          "model_name": "HTMLModel",
          "model_module_version": "1.5.0",
          "state": {
            "_dom_classes": [],
            "_model_module": "@jupyter-widgets/controls",
            "_model_module_version": "1.5.0",
            "_model_name": "HTMLModel",
            "_view_count": null,
            "_view_module": "@jupyter-widgets/controls",
            "_view_module_version": "1.5.0",
            "_view_name": "HTMLView",
            "description": "",
            "description_tooltip": null,
            "layout": "IPY_MODEL_2ce4476c4ecc4c3dbc818d1911245a54",
            "placeholder": "​",
            "style": "IPY_MODEL_eb126877073a43a7aa176dcef7981bd3",
            "value": "100%"
          }
        },
        "3db8520b02c84098824cb6b99af85f23": {
          "model_module": "@jupyter-widgets/controls",
          "model_name": "FloatProgressModel",
          "model_module_version": "1.5.0",
          "state": {
            "_dom_classes": [],
            "_model_module": "@jupyter-widgets/controls",
            "_model_module_version": "1.5.0",
            "_model_name": "FloatProgressModel",
            "_view_count": null,
            "_view_module": "@jupyter-widgets/controls",
            "_view_module_version": "1.5.0",
            "_view_name": "ProgressView",
            "bar_style": "success",
            "description": "",
            "description_tooltip": null,
            "layout": "IPY_MODEL_1d7ad54032f240ddbd6e86b3cdb5c835",
            "max": 10306551,
            "min": 0,
            "orientation": "horizontal",
            "style": "IPY_MODEL_8c21a1b5ffcd4d55accd7695aa8551a7",
            "value": 10306551
          }
        },
        "398404fe74584c4e957f11d4591a0765": {
          "model_module": "@jupyter-widgets/controls",
          "model_name": "HTMLModel",
          "model_module_version": "1.5.0",
          "state": {
            "_dom_classes": [],
            "_model_module": "@jupyter-widgets/controls",
            "_model_module_version": "1.5.0",
            "_model_name": "HTMLModel",
            "_view_count": null,
            "_view_module": "@jupyter-widgets/controls",
            "_view_module_version": "1.5.0",
            "_view_name": "HTMLView",
            "description": "",
            "description_tooltip": null,
            "layout": "IPY_MODEL_5be5c356631549d6a16217b4b6620476",
            "placeholder": "​",
            "style": "IPY_MODEL_a4bd3691d4af4bccab95ab4cb693e712",
            "value": " 9.83M/9.83M [00:00&lt;00:00, 32.1MB/s]"
          }
        },
        "073f6dc18ac44581bcb518ff8637510f": {
          "model_module": "@jupyter-widgets/base",
          "model_name": "LayoutModel",
          "model_module_version": "1.2.0",
          "state": {
            "_model_module": "@jupyter-widgets/base",
            "_model_module_version": "1.2.0",
            "_model_name": "LayoutModel",
            "_view_count": null,
            "_view_module": "@jupyter-widgets/base",
            "_view_module_version": "1.2.0",
            "_view_name": "LayoutView",
            "align_content": null,
            "align_items": null,
            "align_self": null,
            "border": null,
            "bottom": null,
            "display": null,
            "flex": null,
            "flex_flow": null,
            "grid_area": null,
            "grid_auto_columns": null,
            "grid_auto_flow": null,
            "grid_auto_rows": null,
            "grid_column": null,
            "grid_gap": null,
            "grid_row": null,
            "grid_template_areas": null,
            "grid_template_columns": null,
            "grid_template_rows": null,
            "height": null,
            "justify_content": null,
            "justify_items": null,
            "left": null,
            "margin": null,
            "max_height": null,
            "max_width": null,
            "min_height": null,
            "min_width": null,
            "object_fit": null,
            "object_position": null,
            "order": null,
            "overflow": null,
            "overflow_x": null,
            "overflow_y": null,
            "padding": null,
            "right": null,
            "top": null,
            "visibility": null,
            "width": null
          }
        },
        "2ce4476c4ecc4c3dbc818d1911245a54": {
          "model_module": "@jupyter-widgets/base",
          "model_name": "LayoutModel",
          "model_module_version": "1.2.0",
          "state": {
            "_model_module": "@jupyter-widgets/base",
            "_model_module_version": "1.2.0",
            "_model_name": "LayoutModel",
            "_view_count": null,
            "_view_module": "@jupyter-widgets/base",
            "_view_module_version": "1.2.0",
            "_view_name": "LayoutView",
            "align_content": null,
            "align_items": null,
            "align_self": null,
            "border": null,
            "bottom": null,
            "display": null,
            "flex": null,
            "flex_flow": null,
            "grid_area": null,
            "grid_auto_columns": null,
            "grid_auto_flow": null,
            "grid_auto_rows": null,
            "grid_column": null,
            "grid_gap": null,
            "grid_row": null,
            "grid_template_areas": null,
            "grid_template_columns": null,
            "grid_template_rows": null,
            "height": null,
            "justify_content": null,
            "justify_items": null,
            "left": null,
            "margin": null,
            "max_height": null,
            "max_width": null,
            "min_height": null,
            "min_width": null,
            "object_fit": null,
            "object_position": null,
            "order": null,
            "overflow": null,
            "overflow_x": null,
            "overflow_y": null,
            "padding": null,
            "right": null,
            "top": null,
            "visibility": null,
            "width": null
          }
        },
        "eb126877073a43a7aa176dcef7981bd3": {
          "model_module": "@jupyter-widgets/controls",
          "model_name": "DescriptionStyleModel",
          "model_module_version": "1.5.0",
          "state": {
            "_model_module": "@jupyter-widgets/controls",
            "_model_module_version": "1.5.0",
            "_model_name": "DescriptionStyleModel",
            "_view_count": null,
            "_view_module": "@jupyter-widgets/base",
            "_view_module_version": "1.2.0",
            "_view_name": "StyleView",
            "description_width": ""
          }
        },
        "1d7ad54032f240ddbd6e86b3cdb5c835": {
          "model_module": "@jupyter-widgets/base",
          "model_name": "LayoutModel",
          "model_module_version": "1.2.0",
          "state": {
            "_model_module": "@jupyter-widgets/base",
            "_model_module_version": "1.2.0",
            "_model_name": "LayoutModel",
            "_view_count": null,
            "_view_module": "@jupyter-widgets/base",
            "_view_module_version": "1.2.0",
            "_view_name": "LayoutView",
            "align_content": null,
            "align_items": null,
            "align_self": null,
            "border": null,
            "bottom": null,
            "display": null,
            "flex": null,
            "flex_flow": null,
            "grid_area": null,
            "grid_auto_columns": null,
            "grid_auto_flow": null,
            "grid_auto_rows": null,
            "grid_column": null,
            "grid_gap": null,
            "grid_row": null,
            "grid_template_areas": null,
            "grid_template_columns": null,
            "grid_template_rows": null,
            "height": null,
            "justify_content": null,
            "justify_items": null,
            "left": null,
            "margin": null,
            "max_height": null,
            "max_width": null,
            "min_height": null,
            "min_width": null,
            "object_fit": null,
            "object_position": null,
            "order": null,
            "overflow": null,
            "overflow_x": null,
            "overflow_y": null,
            "padding": null,
            "right": null,
            "top": null,
            "visibility": null,
            "width": null
          }
        },
        "8c21a1b5ffcd4d55accd7695aa8551a7": {
          "model_module": "@jupyter-widgets/controls",
          "model_name": "ProgressStyleModel",
          "model_module_version": "1.5.0",
          "state": {
            "_model_module": "@jupyter-widgets/controls",
            "_model_module_version": "1.5.0",
            "_model_name": "ProgressStyleModel",
            "_view_count": null,
            "_view_module": "@jupyter-widgets/base",
            "_view_module_version": "1.2.0",
            "_view_name": "StyleView",
            "bar_color": null,
            "description_width": ""
          }
        },
        "5be5c356631549d6a16217b4b6620476": {
          "model_module": "@jupyter-widgets/base",
          "model_name": "LayoutModel",
          "model_module_version": "1.2.0",
          "state": {
            "_model_module": "@jupyter-widgets/base",
            "_model_module_version": "1.2.0",
            "_model_name": "LayoutModel",
            "_view_count": null,
            "_view_module": "@jupyter-widgets/base",
            "_view_module_version": "1.2.0",
            "_view_name": "LayoutView",
            "align_content": null,
            "align_items": null,
            "align_self": null,
            "border": null,
            "bottom": null,
            "display": null,
            "flex": null,
            "flex_flow": null,
            "grid_area": null,
            "grid_auto_columns": null,
            "grid_auto_flow": null,
            "grid_auto_rows": null,
            "grid_column": null,
            "grid_gap": null,
            "grid_row": null,
            "grid_template_areas": null,
            "grid_template_columns": null,
            "grid_template_rows": null,
            "height": null,
            "justify_content": null,
            "justify_items": null,
            "left": null,
            "margin": null,
            "max_height": null,
            "max_width": null,
            "min_height": null,
            "min_width": null,
            "object_fit": null,
            "object_position": null,
            "order": null,
            "overflow": null,
            "overflow_x": null,
            "overflow_y": null,
            "padding": null,
            "right": null,
            "top": null,
            "visibility": null,
            "width": null
          }
        },
        "a4bd3691d4af4bccab95ab4cb693e712": {
          "model_module": "@jupyter-widgets/controls",
          "model_name": "DescriptionStyleModel",
          "model_module_version": "1.5.0",
          "state": {
            "_model_module": "@jupyter-widgets/controls",
            "_model_module_version": "1.5.0",
            "_model_name": "DescriptionStyleModel",
            "_view_count": null,
            "_view_module": "@jupyter-widgets/base",
            "_view_module_version": "1.2.0",
            "_view_name": "StyleView",
            "description_width": ""
          }
        },
        "9f328f68e0534a1e97bc91018cf8bc19": {
          "model_module": "@jupyter-widgets/controls",
          "model_name": "HBoxModel",
          "model_module_version": "1.5.0",
          "state": {
            "_dom_classes": [],
            "_model_module": "@jupyter-widgets/controls",
            "_model_module_version": "1.5.0",
            "_model_name": "HBoxModel",
            "_view_count": null,
            "_view_module": "@jupyter-widgets/controls",
            "_view_module_version": "1.5.0",
            "_view_name": "HBoxView",
            "box_style": "",
            "children": [
              "IPY_MODEL_8d4de7190f74469da6105cc5f432ad2a",
              "IPY_MODEL_2df47799c4714da6997da0d27d0c12cb",
              "IPY_MODEL_573e7fd0a9e64adca1cb02be02ebfe43"
            ],
            "layout": "IPY_MODEL_36c933dd52034ed4a8872bedcde713f4"
          }
        },
        "8d4de7190f74469da6105cc5f432ad2a": {
          "model_module": "@jupyter-widgets/controls",
          "model_name": "HTMLModel",
          "model_module_version": "1.5.0",
          "state": {
            "_dom_classes": [],
            "_model_module": "@jupyter-widgets/controls",
            "_model_module_version": "1.5.0",
            "_model_name": "HTMLModel",
            "_view_count": null,
            "_view_module": "@jupyter-widgets/controls",
            "_view_module_version": "1.5.0",
            "_view_name": "HTMLView",
            "description": "",
            "description_tooltip": null,
            "layout": "IPY_MODEL_a45386f26c0943228a2b677256cab51a",
            "placeholder": "​",
            "style": "IPY_MODEL_b3074ef010d14297a33d7f2ae86dd46b",
            "value": "100%"
          }
        },
        "2df47799c4714da6997da0d27d0c12cb": {
          "model_module": "@jupyter-widgets/controls",
          "model_name": "FloatProgressModel",
          "model_module_version": "1.5.0",
          "state": {
            "_dom_classes": [],
            "_model_module": "@jupyter-widgets/controls",
            "_model_module_version": "1.5.0",
            "_model_name": "FloatProgressModel",
            "_view_count": null,
            "_view_module": "@jupyter-widgets/controls",
            "_view_module_version": "1.5.0",
            "_view_name": "ProgressView",
            "bar_style": "success",
            "description": "",
            "description_tooltip": null,
            "layout": "IPY_MODEL_282ddd42b3be4aaab2579c9d1284d1ee",
            "max": 169001437,
            "min": 0,
            "orientation": "horizontal",
            "style": "IPY_MODEL_e1378136b7b94d9cbe894fbd5a5ac54d",
            "value": 169001437
          }
        },
        "573e7fd0a9e64adca1cb02be02ebfe43": {
          "model_module": "@jupyter-widgets/controls",
          "model_name": "HTMLModel",
          "model_module_version": "1.5.0",
          "state": {
            "_dom_classes": [],
            "_model_module": "@jupyter-widgets/controls",
            "_model_module_version": "1.5.0",
            "_model_name": "HTMLModel",
            "_view_count": null,
            "_view_module": "@jupyter-widgets/controls",
            "_view_module_version": "1.5.0",
            "_view_name": "HTMLView",
            "description": "",
            "description_tooltip": null,
            "layout": "IPY_MODEL_1d03d06e3afb481ea26ddbe0d154bfc9",
            "placeholder": "​",
            "style": "IPY_MODEL_e852b9e321164dc4921501d3c2ace3d9",
            "value": " 169001437/169001437 [00:02&lt;00:00, 76378195.49it/s]"
          }
        },
        "36c933dd52034ed4a8872bedcde713f4": {
          "model_module": "@jupyter-widgets/base",
          "model_name": "LayoutModel",
          "model_module_version": "1.2.0",
          "state": {
            "_model_module": "@jupyter-widgets/base",
            "_model_module_version": "1.2.0",
            "_model_name": "LayoutModel",
            "_view_count": null,
            "_view_module": "@jupyter-widgets/base",
            "_view_module_version": "1.2.0",
            "_view_name": "LayoutView",
            "align_content": null,
            "align_items": null,
            "align_self": null,
            "border": null,
            "bottom": null,
            "display": null,
            "flex": null,
            "flex_flow": null,
            "grid_area": null,
            "grid_auto_columns": null,
            "grid_auto_flow": null,
            "grid_auto_rows": null,
            "grid_column": null,
            "grid_gap": null,
            "grid_row": null,
            "grid_template_areas": null,
            "grid_template_columns": null,
            "grid_template_rows": null,
            "height": null,
            "justify_content": null,
            "justify_items": null,
            "left": null,
            "margin": null,
            "max_height": null,
            "max_width": null,
            "min_height": null,
            "min_width": null,
            "object_fit": null,
            "object_position": null,
            "order": null,
            "overflow": null,
            "overflow_x": null,
            "overflow_y": null,
            "padding": null,
            "right": null,
            "top": null,
            "visibility": null,
            "width": null
          }
        },
        "a45386f26c0943228a2b677256cab51a": {
          "model_module": "@jupyter-widgets/base",
          "model_name": "LayoutModel",
          "model_module_version": "1.2.0",
          "state": {
            "_model_module": "@jupyter-widgets/base",
            "_model_module_version": "1.2.0",
            "_model_name": "LayoutModel",
            "_view_count": null,
            "_view_module": "@jupyter-widgets/base",
            "_view_module_version": "1.2.0",
            "_view_name": "LayoutView",
            "align_content": null,
            "align_items": null,
            "align_self": null,
            "border": null,
            "bottom": null,
            "display": null,
            "flex": null,
            "flex_flow": null,
            "grid_area": null,
            "grid_auto_columns": null,
            "grid_auto_flow": null,
            "grid_auto_rows": null,
            "grid_column": null,
            "grid_gap": null,
            "grid_row": null,
            "grid_template_areas": null,
            "grid_template_columns": null,
            "grid_template_rows": null,
            "height": null,
            "justify_content": null,
            "justify_items": null,
            "left": null,
            "margin": null,
            "max_height": null,
            "max_width": null,
            "min_height": null,
            "min_width": null,
            "object_fit": null,
            "object_position": null,
            "order": null,
            "overflow": null,
            "overflow_x": null,
            "overflow_y": null,
            "padding": null,
            "right": null,
            "top": null,
            "visibility": null,
            "width": null
          }
        },
        "b3074ef010d14297a33d7f2ae86dd46b": {
          "model_module": "@jupyter-widgets/controls",
          "model_name": "DescriptionStyleModel",
          "model_module_version": "1.5.0",
          "state": {
            "_model_module": "@jupyter-widgets/controls",
            "_model_module_version": "1.5.0",
            "_model_name": "DescriptionStyleModel",
            "_view_count": null,
            "_view_module": "@jupyter-widgets/base",
            "_view_module_version": "1.2.0",
            "_view_name": "StyleView",
            "description_width": ""
          }
        },
        "282ddd42b3be4aaab2579c9d1284d1ee": {
          "model_module": "@jupyter-widgets/base",
          "model_name": "LayoutModel",
          "model_module_version": "1.2.0",
          "state": {
            "_model_module": "@jupyter-widgets/base",
            "_model_module_version": "1.2.0",
            "_model_name": "LayoutModel",
            "_view_count": null,
            "_view_module": "@jupyter-widgets/base",
            "_view_module_version": "1.2.0",
            "_view_name": "LayoutView",
            "align_content": null,
            "align_items": null,
            "align_self": null,
            "border": null,
            "bottom": null,
            "display": null,
            "flex": null,
            "flex_flow": null,
            "grid_area": null,
            "grid_auto_columns": null,
            "grid_auto_flow": null,
            "grid_auto_rows": null,
            "grid_column": null,
            "grid_gap": null,
            "grid_row": null,
            "grid_template_areas": null,
            "grid_template_columns": null,
            "grid_template_rows": null,
            "height": null,
            "justify_content": null,
            "justify_items": null,
            "left": null,
            "margin": null,
            "max_height": null,
            "max_width": null,
            "min_height": null,
            "min_width": null,
            "object_fit": null,
            "object_position": null,
            "order": null,
            "overflow": null,
            "overflow_x": null,
            "overflow_y": null,
            "padding": null,
            "right": null,
            "top": null,
            "visibility": null,
            "width": null
          }
        },
        "e1378136b7b94d9cbe894fbd5a5ac54d": {
          "model_module": "@jupyter-widgets/controls",
          "model_name": "ProgressStyleModel",
          "model_module_version": "1.5.0",
          "state": {
            "_model_module": "@jupyter-widgets/controls",
            "_model_module_version": "1.5.0",
            "_model_name": "ProgressStyleModel",
            "_view_count": null,
            "_view_module": "@jupyter-widgets/base",
            "_view_module_version": "1.2.0",
            "_view_name": "StyleView",
            "bar_color": null,
            "description_width": ""
          }
        },
        "1d03d06e3afb481ea26ddbe0d154bfc9": {
          "model_module": "@jupyter-widgets/base",
          "model_name": "LayoutModel",
          "model_module_version": "1.2.0",
          "state": {
            "_model_module": "@jupyter-widgets/base",
            "_model_module_version": "1.2.0",
            "_model_name": "LayoutModel",
            "_view_count": null,
            "_view_module": "@jupyter-widgets/base",
            "_view_module_version": "1.2.0",
            "_view_name": "LayoutView",
            "align_content": null,
            "align_items": null,
            "align_self": null,
            "border": null,
            "bottom": null,
            "display": null,
            "flex": null,
            "flex_flow": null,
            "grid_area": null,
            "grid_auto_columns": null,
            "grid_auto_flow": null,
            "grid_auto_rows": null,
            "grid_column": null,
            "grid_gap": null,
            "grid_row": null,
            "grid_template_areas": null,
            "grid_template_columns": null,
            "grid_template_rows": null,
            "height": null,
            "justify_content": null,
            "justify_items": null,
            "left": null,
            "margin": null,
            "max_height": null,
            "max_width": null,
            "min_height": null,
            "min_width": null,
            "object_fit": null,
            "object_position": null,
            "order": null,
            "overflow": null,
            "overflow_x": null,
            "overflow_y": null,
            "padding": null,
            "right": null,
            "top": null,
            "visibility": null,
            "width": null
          }
        },
        "e852b9e321164dc4921501d3c2ace3d9": {
          "model_module": "@jupyter-widgets/controls",
          "model_name": "DescriptionStyleModel",
          "model_module_version": "1.5.0",
          "state": {
            "_model_module": "@jupyter-widgets/controls",
            "_model_module_version": "1.5.0",
            "_model_name": "DescriptionStyleModel",
            "_view_count": null,
            "_view_module": "@jupyter-widgets/base",
            "_view_module_version": "1.2.0",
            "_view_name": "StyleView",
            "description_width": ""
          }
        }
      }
    }
  },
  "nbformat": 4,
  "nbformat_minor": 5
}